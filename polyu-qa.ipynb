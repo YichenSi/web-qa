Code cell <QBeR7w6efdQ7>
# %% [code]
import requests
import re
import urllib.request
from bs4 import BeautifulSoup
from collections import deque
from html.parser import HTMLParser
from urllib.parse import urlparse
import os

# Regex pattern to match a URL
HTTP_URL_PATTERN = r'^http[s]*://.+'

# Define root domain to crawl
domain = "www51.polyu.edu.hk"
full_url = "https://www51.polyu.edu.hk"

# Create a class to parse the HTML and get the hyperlinks
class HyperlinkParser(HTMLParser):
    def __init__(self):
        super().__init__()
        # Create a list to store the hyperlinks
        self.hyperlinks = []

    # Override the HTMLParser's handle_starttag method to get the hyperlinks
    def handle_starttag(self, tag, attrs):
        attrs = dict(attrs)

        # If the tag is an anchor tag and it has an href attribute, add the href attribute to the list of hyperlinks
        if tag == "a" and "href" in attrs:
            self.hyperlinks.append(attrs["href"])

# Function to get the hyperlinks from a URL
def get_hyperlinks(url):

    # Try to open the URL and read the HTML
    try:
        # Open the URL and read the HTML
        with urllib.request.urlopen(url) as response:

            # If the response is not HTML, return an empty list
            if not response.info().get('Content-Type').startswith("text/html"):
                return []

            # Decode the HTML
            html = response.read().decode('utf-8')
    except Exception as e:
        print(e)
        return []

    # Create the HTML Parser and then Parse the HTML to get hyperlinks
    parser = HyperlinkParser()
    parser.feed(html)

    return parser.hyperlinks

# Function to get the hyperlinks from a URL that are within the same domain
def get_domain_hyperlinks(local_domain, url):
    clean_links = []
    for link in set(get_hyperlinks(url)):
        clean_link = None

        # If the link is a URL, check if it is within the same domain
        if re.search(HTTP_URL_PATTERN, link):
            # Parse the URL and check if the domain is the same
            url_obj = urlparse(link)
            if url_obj.netloc == local_domain:
                clean_link = link

        # If the link is not a URL, check if it is a relative link
        else:
            if link.startswith("/"):
                link = link[1:]
            elif link.startswith("#") or link.startswith("mailto:"):
                continue
            clean_link = "https://" + local_domain + "/" + link

        if clean_link is not None:
            if clean_link.endswith("/"):
                clean_link = clean_link[:-1]
            if 'print' not in clean_link:
              clean_links.append(clean_link)

    # Return the list of hyperlinks that are within the same domain
    return list(set(clean_links))


def crawl(url):
    # Parse the URL and get the domain
    local_domain = urlparse(url).netloc

    # Create a queue to store the URLs to crawl
    queue = deque([url])

    # Create a set to store the URLs that have already been seen (no duplicates)
    seen = set([url])

    # Create a directory to store the text files
    if not os.path.exists("/content/drive/MyDrive/text/"):
            os.mkdir("/content/drive/MyDrive/text/")

    if not os.path.exists("/content/drive/MyDrive/text/"+local_domain+"/"):
            os.mkdir("/content/drive/MyDrive/text/" + local_domain + "/")

    # Create a directory to store the csv files
    if not os.path.exists("/content/drive/MyDrive/processed"):
            os.mkdir("/content/drive/MyDrive/processed")

    # While the queue is not empty, continue crawling
    while queue:

        # Get the next URL from the queue
        url = queue.pop()
        print(url) # for debugging and to see the progress

        # Save text from the url to a <url>.txt file
        with open('/content/drive/MyDrive/text/'+local_domain+'/'+url[8:].replace("/", "_") + ".txt", "w") as f:

            for i in range(3):
              try:
                # Get the text from the URL using BeautifulSoup
                soup = BeautifulSoup(requests.get(url).text, "html.parser")
              except RemoteDisconnected as e:
                print(e)
                print(f'Retrying {i+1} times...')
              else:
                break
            # Get the text but remove the tags
            text = soup.get_text()

            # If the crawler gets to a page that requires JavaScript, it will stop the crawl
            if ("You need to enable JavaScript to run this app." in text):
                print("Unable to parse page " + url + " due to JavaScript being required")

            # Otherwise, write the text to the file in the text directory
            f.write(text)

        # Get the hyperlinks from the URL and add them to the queue
        for link in get_domain_hyperlinks(local_domain, url):
            if link not in seen:
                queue.append(link)
                seen.add(link)
crawl(full_url)
Execution output from Aug 8, 2023 10:22 AM
71KB
	Stream
		https://www51.polyu.edu.hk
		https://www51.polyu.edu.hk/eprospectus/UG
		https://www51.polyu.edu.hk/eprospectus/ug/jupas/concurrent-enrolment
		https://www51.polyu.edu.hk/eprospectus/ug/non-jupas/faq
		https://www51.polyu.edu.hk/javascript:toggle5('contentDivImg13', 'imageDivLink13')
		URL can't contain control characters. "/javascript:toggle5('contentDivImg13', 'imageDivLink13')" (found at least ' ')
		https://www51.polyu.edu.hk/javascript:toggle5('contentDivImg21', 'imageDivLink21')
		URL can't contain control characters. "/javascript:toggle5('contentDivImg21', 'imageDivLink21')" (found at least ' ')
		https://www51.polyu.edu.hk/javascript:toggle5('contentDivImg24', 'imageDivLink24')
		URL can't contain control characters. "/javascript:toggle5('contentDivImg24', 'imageDivLink24')" (found at least ' ')
		https://www51.polyu.edu.hk/javascript:toggle5('contentDivImg3', 'imageDivLink3')
		URL can't contain control characters. "/javascript:toggle5('contentDivImg3', 'imageDivLink3')" (found at least ' ')
		https://www51.polyu.edu.hk/eprospectus/ug/non-jupas/tuition-fees
		https://www51.polyu.edu.hk/javascript:toggle5('contentDivImg31', 'imageDivLink31')
		URL can't contain control characters. "/javascript:toggle5('contentDivImg31', 'imageDivLink31')" (found at least ' ')
		http://www51.polyu.edu.hk/eprospectus/ug/international/definition-of-non-local-applicants
		https://www51.polyu.edu.hk/eprospectus/ug/international#programme-list
		http://www51.polyu.edu.hk/eprospectus/ug/jee/definition-of-non-local-applicants
		https://www51.polyu.edu.hk/eprospectus/ug/jee/programme-updates
		https://www51.polyu.edu.hk/eprospectus/ug/jee/accommodation
		https://www51.polyu.edu.hk/eprospectus/ug/jee/inter-institutional-transfer
		https://www51.polyu.edu.hk/eprospectus/ug/jee/new-features
		https://www51.polyu.edu.hk/eprospectus/ug/jee/additional-documents-required
		https://www51.polyu.edu.hk/eprospectus/ug/jee/2023/js3020
		http://www51.polyu.edu.hk/eprospectus/ug/jee#programme-list
		http://www51.polyu.edu.hk/eprospectus/ug/international#programme-list
		http://www51.polyu.edu.hk/eprospectus/ug/jee/faq
		http://www51.polyu.edu.hk/eprospectus/ug/jee
		http://www51.polyu.edu.hk/eprospectus/ug/international/faq
		http://www51.polyu.edu.hk/eprospectus/ug/international/additional-documents-required
		https://www51.polyu.edu.hk/eprospectus/ug/international/2023/js3060
		https://www51.polyu.edu.hk/eprospectus/ug/international/additional-documents-required/s
		https://www51.polyu.edu.hk/eprospectus/ug/international/2023/js3080
		https://www51.polyu.edu.hk/eprospectus/ug/international/2023/js3648
		http://www51.polyu.edu.hk/eprospectus/ug/jupas/general-entrance-requirements
		https://www51.polyu.edu.hk/eprospectus/ug/international/2023/js3337
		https://www51.polyu.edu.hk/eprospectus/ug/international/2023/js3741
		https://www51.polyu.edu.hk/eprospectus/ug/international/2023/js3180
		http://www51.polyu.edu.hk/eprospectus/ug/jupas/new-features
		https://www51.polyu.edu.hk/eprospectus/ug/international/additional-documents-required/b
		https://www51.polyu.edu.hk/eprospectus/ug/international/2023/js3624
		https://www51.polyu.edu.hk/eprospectus/ug/international/2023/js3569
		https://www51.polyu.edu.hk/eprospectus/ug/international/2023/js3310
		https://www51.polyu.edu.hk/eprospectus/ug/international/2023/js3557
		https://www51.polyu.edu.hk/eprospectus/ug/international/2023/js3150
		https://www51.polyu.edu.hk/eprospectus/ug/international/additional-documents-required/e
		https://www51.polyu.edu.hk/eprospectus/ug/international/additional-documents-required/l
		https://www51.polyu.edu.hk/eprospectus/ug/international/2023/js3868
		https://www51.polyu.edu.hk/eprospectus/ug/international/additional-documents-required/m
		https://www51.polyu.edu.hk/eprospectus/ug/international/additional-documents-required/f
		https://www51.polyu.edu.hk/eprospectus/ug/international/2023/js3636
		https://www51.polyu.edu.hk/eprospectus/ug/international/additional-documents-required/n
		https://www51.polyu.edu.hk/eprospectus/ug/international/2023/js3020
		https://www51.polyu.edu.hk/eprospectus/ug/international/2023/js3612
		https://www51.polyu.edu.hk/eprospectus/ug/international/additional-documents-required/r
		https://www51.polyu.edu.hk/eprospectus/ug/international/2023/js3170
		https://www51.polyu.edu.hk/eprospectus/ug/international/additional-documents-required/i
		https://www51.polyu.edu.hk/eprospectus/ug/international/2023/js3110
		https://www51.polyu.edu.hk/eprospectus/ug/international/additional-documents-required/p
		https://www51.polyu.edu.hk/eprospectus/ug/international/additional-documents-required/a
		https://www51.polyu.edu.hk/eprospectus/ug/international/2023/js3030
		https://www51.polyu.edu.hk/eprospectus/ug/international/2023/js3120
		https://www51.polyu.edu.hk/eprospectus/ug/international/2023/js3330
		https://www51.polyu.edu.hk/eprospectus/ug/international/2023/js3250
		https://www51.polyu.edu.hk/eprospectus/ug/international/2023/js3070
		https://www51.polyu.edu.hk/eprospectus/ug/international/2023/js3320
		https://www51.polyu.edu.hk/eprospectus/ug/international/additional-documents-required/o
		https://www51.polyu.edu.hk/eprospectus/ug/international/2023/js3010
		https://www51.polyu.edu.hk/eprospectus/ug/international/2023/js3290
		https://www51.polyu.edu.hk/eprospectus/ug/international/additional-documents-required/h
		https://www51.polyu.edu.hk/eprospectus/ug/international/additional-documents-required/d
		https://www51.polyu.edu.hk/eprospectus/ug/international/additional-documents-required/c
		https://www51.polyu.edu.hk/eprospectus/ug/international/2023/js3100
		https://www51.polyu.edu.hk/eprospectus/ug/international/2023/js3140
		https://www51.polyu.edu.hk/eprospectus/ug/international/2023/js3050
		https://www51.polyu.edu.hk/eprospectus/ug/international/2023/js3571
		https://www51.polyu.edu.hk/eprospectus/ug/international/2023/js3478
		https://www51.polyu.edu.hk/eprospectus/ug/international/2023/js3240
		https://www51.polyu.edu.hk/eprospectus/ug/international/2023/js3130
		http://www51.polyu.edu.hk/eprospectus/ug/international/financial-assistance-and-scholarships
		http://www51.polyu.edu.hk/eprospectus
		http://www51.polyu.edu.hk/eprospectus/rpg
		https://www51.polyu.edu.hk/eprospectus/rpg/general-expenses
		https://www51.polyu.edu.hk/eprospectus/rpg/residence-requirement
		https://www51.polyu.edu.hk/eprospectus/rpg/medium-of-instruction-and-thesis-presentation
		https://www51.polyu.edu.hk/eprospectus/rpg/selection-criteria
		https://www51.polyu.edu.hk/eprospectus/rpg/english-enhancement-subjects
		http://www51.polyu.edu.hk/eprospectus/rpg/important-notes-to-applicants
		http://www51.polyu.edu.hk/eprospectus/rpg/admission-requirements
		http://www51.polyu.edu.hk/eprospectus/rpg/additional-documents-required
		https://www51.polyu.edu.hk/eprospectus/rpg/20224/lsgi
		https://www51.polyu.edu.hk/javascript:toggle5('newboxes7', 'imageDivLink7');
		URL can't contain control characters. "/javascript:toggle5('newboxes7', 'imageDivLink7');" (found at least ' ')
		https://www51.polyu.edu.hk/javascript:toggle5('newboxes6', 'imageDivLink6');
		URL can't contain control characters. "/javascript:toggle5('newboxes6', 'imageDivLink6');" (found at least ' ')
		https://www51.polyu.edu.hk/javascript:toggle5('newboxes0', 'imageDivLink0');
		URL can't contain control characters. "/javascript:toggle5('newboxes0', 'imageDivLink0');" (found at least ' ')
		https://www51.polyu.edu.hk/javascript:toggle5('newboxes2', 'imageDivLink2');
		URL can't contain control characters. "/javascript:toggle5('newboxes2', 'imageDivLink2');" (found at least ' ')
		https://www51.polyu.edu.hk/javascript:toggle5('newboxes1', 'imageDivLink1');
		URL can't contain control characters. "/javascript:toggle5('newboxes1', 'imageDivLink1');" (found at least ' ')
		https://www51.polyu.edu.hk/javascript:toggle5('newboxes4', 'imageDivLink4');
		URL can't contain control characters. "/javascript:toggle5('newboxes4', 'imageDivLink4');" (found at least ' ')
		https://www51.polyu.edu.hk/javascript:toggle5('newboxes3', 'imageDivLink3');
		URL can't contain control characters. "/javascript:toggle5('newboxes3', 'imageDivLink3');" (found at least ' ')
		https://www51.polyu.edu.hk/javascript:toggle5('newboxes8', 'imageDivLink8');
		URL can't contain control characters. "/javascript:toggle5('newboxes8', 'imageDivLink8');" (found at least ' ')
		https://www51.polyu.edu.hk/javascript:toggle5('newboxes5', 'imageDivLink5');
		URL can't contain control characters. "/javascript:toggle5('newboxes5', 'imageDivLink5');" (found at least ' ')
		https://www51.polyu.edu.hk/eprospectus/rpg/20224/abct
		https://www51.polyu.edu.hk/javascript:toggle5('newboxes26', 'imageDivLink26');
		URL can't contain control characters. "/javascript:toggle5('newboxes26', 'imageDivLink26');" (found at least ' ')
		https://www51.polyu.edu.hk/javascript:toggle5('newboxes18', 'imageDivLink18');
		URL can't contain control characters. "/javascript:toggle5('newboxes18', 'imageDivLink18');" (found at least ' ')
		https://www51.polyu.edu.hk/javascript:toggle5('newboxes27', 'imageDivLink27');
		URL can't contain control characters. "/javascript:toggle5('newboxes27', 'imageDivLink27');" (found at least ' ')
		https://www51.polyu.edu.hk/javascript:toggle5('newboxes21', 'imageDivLink21');
		URL can't contain control characters. "/javascript:toggle5('newboxes21', 'imageDivLink21');" (found at least ' ')
		https://www51.polyu.edu.hk/javascript:toggle5('newboxes29', 'imageDivLink29');
		URL can't contain control characters. "/javascript:toggle5('newboxes29', 'imageDivLink29');" (found at least ' ')
		https://www51.polyu.edu.hk/javascript:toggle5('newboxes33', 'imageDivLink33');
		URL can't contain control characters. "/javascript:toggle5('newboxes33', 'imageDivLink33');" (found at least ' ')
		https://www51.polyu.edu.hk/javascript:toggle5('newboxes32', 'imageDivLink32');
		URL can't contain control characters. "/javascript:toggle5('newboxes32', 'imageDivLink32');" (found at least ' ')
		https://www51.polyu.edu.hk/javascript:toggle5('newboxes22', 'imageDivLink22');
		URL can't contain control characters. "/javascript:toggle5('newboxes22', 'imageDivLink22');" (found at least ' ')
		https://www51.polyu.edu.hk/javascript:toggle5('newboxes23', 'imageDivLink23');
		URL can't contain control characters. "/javascript:toggle5('newboxes23', 'imageDivLink23');" (found at least ' ')
		https://www51.polyu.edu.hk/javascript:toggle5('newboxes12', 'imageDivLink12');
		URL can't contain control characters. "/javascript:toggle5('newboxes12', 'imageDivLink12');" (found at least ' ')
		https://www51.polyu.edu.hk/javascript:toggle5('newboxes19', 'imageDivLink19');
		URL can't contain control characters. "/javascript:toggle5('newboxes19', 'imageDivLink19');" (found at least ' ')
		https://www51.polyu.edu.hk/javascript:toggle5('newboxes15', 'imageDivLink15');
		URL can't contain control characters. "/javascript:toggle5('newboxes15', 'imageDivLink15');" (found at least ' ')
		https://www51.polyu.edu.hk/javascript:toggle5('newboxes35', 'imageDivLink35');
		URL can't contain control characters. "/javascript:toggle5('newboxes35', 'imageDivLink35');" (found at least ' ')
		https://www51.polyu.edu.hk/javascript:toggle5('newboxes14', 'imageDivLink14');
		URL can't contain control characters. "/javascript:toggle5('newboxes14', 'imageDivLink14');" (found at least ' ')
		https://www51.polyu.edu.hk/javascript:toggle5('newboxes11', 'imageDivLink11');
		URL can't contain control characters. "/javascript:toggle5('newboxes11', 'imageDivLink11');" (found at least ' ')
		https://www51.polyu.edu.hk/javascript:toggle5('newboxes16', 'imageDivLink16');
		URL can't contain control characters. "/javascript:toggle5('newboxes16', 'imageDivLink16');" (found at least ' ')
		https://www51.polyu.edu.hk/javascript:toggle5('newboxes9', 'imageDivLink9');
		URL can't contain control characters. "/javascript:toggle5('newboxes9', 'imageDivLink9');" (found at least ' ')
		https://www51.polyu.edu.hk/javascript:toggle5('newboxes30', 'imageDivLink30');
		URL can't contain control characters. "/javascript:toggle5('newboxes30', 'imageDivLink30');" (found at least ' ')
		https://www51.polyu.edu.hk/javascript:toggle5('newboxes34', 'imageDivLink34');
		URL can't contain control characters. "/javascript:toggle5('newboxes34', 'imageDivLink34');" (found at least ' ')
		https://www51.polyu.edu.hk/javascript:toggle5('newboxes25', 'imageDivLink25');
		URL can't contain control characters. "/javascript:toggle5('newboxes25', 'imageDivLink25');" (found at least ' ')
		https://www51.polyu.edu.hk/javascript:toggle5('newboxes24', 'imageDivLink24');
		URL can't contain control characters. "/javascript:toggle5('newboxes24', 'imageDivLink24');" (found at least ' ')
		https://www51.polyu.edu.hk/javascript:toggle5('newboxes20', 'imageDivLink20');
		URL can't contain control characters. "/javascript:toggle5('newboxes20', 'imageDivLink20');" (found at least ' ')
		https://www51.polyu.edu.hk/javascript:toggle5('newboxes31', 'imageDivLink31');
		URL can't contain control characters. "/javascript:toggle5('newboxes31', 'imageDivLink31');" (found at least ' ')
		https://www51.polyu.edu.hk/javascript:toggle5('newboxes28', 'imageDivLink28');
		URL can't contain control characters. "/javascript:toggle5('newboxes28', 'imageDivLink28');" (found at least ' ')
		https://www51.polyu.edu.hk/javascript:toggle5('newboxes13', 'imageDivLink13');
		URL can't contain control characters. "/javascript:toggle5('newboxes13', 'imageDivLink13');" (found at least ' ')
		https://www51.polyu.edu.hk/javascript:toggle5('newboxes17', 'imageDivLink17');
		URL can't contain control characters. "/javascript:toggle5('newboxes17', 'imageDivLink17');" (found at least ' ')
		https://www51.polyu.edu.hk/javascript:toggle5('newboxes10', 'imageDivLink10');
		URL can't contain control characters. "/javascript:toggle5('newboxes10', 'imageDivLink10');" (found at least ' ')
		https://www51.polyu.edu.hk/eprospectus/rpg/20224/hti
		https://www51.polyu.edu.hk/eprospectus/rpg/20224/bre
		https://www51.polyu.edu.hk/eprospectus/rpg/20224/ap
		https://www51.polyu.edu.hk/eprospectus/rpg/20224/mm
		https://www51.polyu.edu.hk/eprospectus/rpg/20224/engl
		https://www51.polyu.edu.hk/eprospectus/rpg/20224/aae
		https://www51.polyu.edu.hk/eprospectus/rpg/20224/sn
		https://www51.polyu.edu.hk/eprospectus/rpg/20224/shtm
		https://www51.polyu.edu.hk/javascript:toggle5('newboxes42', 'imageDivLink42');
		URL can't contain control characters. "/javascript:toggle5('newboxes42', 'imageDivLink42');" (found at least ' ')
		https://www51.polyu.edu.hk/javascript:toggle5('newboxes48', 'imageDivLink48');
		URL can't contain control characters. "/javascript:toggle5('newboxes48', 'imageDivLink48');" (found at least ' ')
		https://www51.polyu.edu.hk/javascript:toggle5('newboxes40', 'imageDivLink40');
		URL can't contain control characters. "/javascript:toggle5('newboxes40', 'imageDivLink40');" (found at least ' ')
		https://www51.polyu.edu.hk/javascript:toggle5('newboxes43', 'imageDivLink43');
		URL can't contain control characters. "/javascript:toggle5('newboxes43', 'imageDivLink43');" (found at least ' ')
		https://www51.polyu.edu.hk/javascript:toggle5('newboxes36', 'imageDivLink36');
		URL can't contain control characters. "/javascript:toggle5('newboxes36', 'imageDivLink36');" (found at least ' ')
		https://www51.polyu.edu.hk/javascript:toggle5('newboxes45', 'imageDivLink45');
		URL can't contain control characters. "/javascript:toggle5('newboxes45', 'imageDivLink45');" (found at least ' ')
		https://www51.polyu.edu.hk/javascript:toggle5('newboxes47', 'imageDivLink47');
		URL can't contain control characters. "/javascript:toggle5('newboxes47', 'imageDivLink47');" (found at least ' ')
		https://www51.polyu.edu.hk/javascript:toggle5('newboxes41', 'imageDivLink41');
		URL can't contain control characters. "/javascript:toggle5('newboxes41', 'imageDivLink41');" (found at least ' ')
		https://www51.polyu.edu.hk/javascript:toggle5('newboxes46', 'imageDivLink46');
		URL can't contain control characters. "/javascript:toggle5('newboxes46', 'imageDivLink46');" (found at least ' ')
		https://www51.polyu.edu.hk/javascript:toggle5('newboxes37', 'imageDivLink37');
		URL can't contain control characters. "/javascript:toggle5('newboxes37', 'imageDivLink37');" (found at least ' ')
		https://www51.polyu.edu.hk/javascript:toggle5('newboxes44', 'imageDivLink44');
		URL can't contain control characters. "/javascript:toggle5('newboxes44', 'imageDivLink44');" (found at least ' ')
		https://www51.polyu.edu.hk/javascript:toggle5('newboxes39', 'imageDivLink39');
		URL can't contain control characters. "/javascript:toggle5('newboxes39', 'imageDivLink39');" (found at least ' ')
		https://www51.polyu.edu.hk/javascript:toggle5('newboxes38', 'imageDivLink38');
		URL can't contain control characters. "/javascript:toggle5('newboxes38', 'imageDivLink38');" (found at least ' ')
		https://www51.polyu.edu.hk/eprospectus/rpg/20224/ee
		https://www51.polyu.edu.hk/eprospectus/rpg/20224/beee
		https://www51.polyu.edu.hk/eprospectus/rpg/20224/cbs
		https://www51.polyu.edu.hk/eprospectus/rpg/20224/eie
		https://www51.polyu.edu.hk/eprospectus/rpg/20224/itc
		https://www51.polyu.edu.hk/eprospectus/rpg/20224/cee
		https://www51.polyu.edu.hk/eprospectus/rpg/20224/cc
		https://www51.polyu.edu.hk/eprospectus/rpg/20224/ise
		https://www51.polyu.edu.hk/eprospectus/rpg/20224/comp
		https://www51.polyu.edu.hk/eprospectus/rpg/20224/lms
		https://www51.polyu.edu.hk/eprospectus/rpg/20224/af
		https://www51.polyu.edu.hk/eprospectus/rpg/20224/bme
		https://www51.polyu.edu.hk/eprospectus/rpg/20224/so
		https://www51.polyu.edu.hk/eprospectus/rpg/20224/apss
		https://www51.polyu.edu.hk/eprospectus/rpg/20224/ama
		https://www51.polyu.edu.hk/eprospectus/rpg/20224/me
		https://www51.polyu.edu.hk/eprospectus/rpg/20224/rs
		https://www51.polyu.edu.hk/eprospectus/rpg/20224/sd
		http://www51.polyu.edu.hk/eprospectus/rpg/tuition-fee-and-registration-fee
		https://www51.polyu.edu.hk/eprospectus/rpg#programme-list
		https://www51.polyu.edu.hk/eprospectus/rpg/additional-documents-required
		https://www51.polyu.edu.hk/eprospectus/rpg/caution-money
		https://www51.polyu.edu.hk/eprospectus/rpg/national-education-requirement
		https://www51.polyu.edu.hk/eprospectus/rpg/academic-year
		https://www51.polyu.edu.hk/eprospectus/rpg/applicants-with-disabilities
		https://www51.polyu.edu.hk/eprospectus/rpg/important-notes-to-applicants
		https://www51.polyu.edu.hk/eprospectus/rpg/concurrent-enrolment
		https://www51.polyu.edu.hk/eprospectus/rpg/tuition-fee-and-registration-fee
		https://www51.polyu.edu.hk/eprospectus/rpg/admission-requirements
		https://www51.polyu.edu.hk/eprospectus/rpg/non-local-applicants
		https://www51.polyu.edu.hk/eprospectus/rpg/enrolment-and-registration
		https://www51.polyu.edu.hk/eprospectus/rpg/programme-type
		http://www51.polyu.edu.hk/eprospectus/rpg/credit-transfer-and-exemption
		http://www51.polyu.edu.hk/eprospectus/rpg/programme-type
		https://www51.polyu.edu.hk/rpg/faqs
		HTTP Error 404: Not Found
		https://www51.polyu.edu.hk/eprospectus/rpg/faqs
		http://www51.polyu.edu.hk/eprospectus/rpg/academic-year
		http://www51.polyu.edu.hk/eprospectus/rpg/non-local-applicants
		http://www51.polyu.edu.hk/eprospectus/rpg/scholarships
		https://www51.polyu.edu.hk/eprospectus/rpg/other-fees
		https://www51.polyu.edu.hk/eprospectus/rpg/credit-transfer-and-exemption
		https://www51.polyu.edu.hk/eprospectus/rpg/financial-assistance
		https://www51.polyu.edu.hk/eprospectus/rpg/scholarships
		http://www51.polyu.edu.hk/eprospectus/ug-non-local
		http://www51.polyu.edu.hk/eprospectus/tpg
		https://www51.polyu.edu.hk/eprospectus/tpg/financial-assistance-and-scholarships
		https://www51.polyu.edu.hk/eprospectus/tpg/programme-features
		https://www51.polyu.edu.hk/eprospectus/tpg/re-admission
		https://www51.polyu.edu.hk/eprospectus/tpg/faq
		https://www51.polyu.edu.hk/_blank
		HTTP Error 404: Not Found
		https://www51.polyu.edu.hk/eprospectus/tpg/targeted-tpg-programmes-fellowships-scheme
		http://www51.polyu.edu.hk/eprospectus/tpg/admissions-requirements
		https://www51.polyu.edu.hk/eprospectus/tpg/additional-documents-required
		https://www51.polyu.edu.hk/eprospectus/tpg/additional-documents-required/h
		https://www51.polyu.edu.hk/eprospectus/tpg/additional-documents-required/m
		https://www51.polyu.edu.hk/eprospectus/tpg/additional-documents-required/p
		https://www51.polyu.edu.hk/eprospectus/tpg/additional-documents-required/a
		https://www51.polyu.edu.hk/eprospectus/tpg/additional-documents-required/i
		https://www51.polyu.edu.hk/eprospectus/tpg/additional-documents-required/s
		https://www51.polyu.edu.hk/eprospectus/tpg/additional-documents-required/d
		https://www51.polyu.edu.hk/eprospectus/tpg/20232/51067
		https://www51.polyu.edu.hk/eprospectus/tpg/additional-documents-required/c
		https://www51.polyu.edu.hk/eprospectus/tpg/additional-documents-required/b
		https://www51.polyu.edu.hk/eprospectus/tpg/20232/51068
		https://www51.polyu.edu.hk/eprospectus/tpg/additional-documents-required/o
		https://www51.polyu.edu.hk/eprospectus/tpg/additional-documents-required/n
		https://www51.polyu.edu.hk/eprospectus/tpg/additional-documents-required/g
		https://www51.polyu.edu.hk/eprospectus/tpg/additional-documents-required/e
		https://www51.polyu.edu.hk/eprospectus/tpg/additional-documents-required/t
		https://www51.polyu.edu.hk/eprospectus/tpg/additional-documents-required/k
		https://www51.polyu.edu.hk/eprospectus/tpg/20232/02014
		https://www51.polyu.edu.hk/eprospectus/tpg/additional-documents-required/f
		https://www51.polyu.edu.hk/eprospectus/tpg/additional-documents-required/u
		https://www51.polyu.edu.hk/eprospectus/tpg/general-information
		https://www51.polyu.edu.hk/eprospectus/tpg/programme-updates
		https://www51.polyu.edu.hk/eprospectus/tpg/online-application
		https://www51.polyu.edu.hk/eprospectus/tpg/non-local-applicants
		https://www51.polyu.edu.hk/eprospectus/tpg/admissions-requirements
		https://www51.polyu.edu.hk/eprospectus/tpg#programme-list
		https://www51.polyu.edu.hk/tpg/faq
		HTTP Error 404: Not Found
		https://www51.polyu.edu.hk/eprospectus/tpg/student-visa-application
		https://www51.polyu.edu.hk/eprospectus/tpg/credit-transfer-and-exemption
		https://www51.polyu.edu.hk/eprospectus/tpg/tuition-fees
		https://www51.polyu.edu.hk/eprospectus/tpg/tuition-fees/b
		https://www51.polyu.edu.hk/eprospectus/tpg/tuition-fees/u
		https://www51.polyu.edu.hk/eprospectus/tpg/tuition-fees/s
		https://www51.polyu.edu.hk/eprospectus/tpg/tuition-fees/m
		https://www51.polyu.edu.hk/eprospectus/tpg/tuition-fees/i
		https://www51.polyu.edu.hk/eprospectus/tpg/tuition-fees/f
		https://www51.polyu.edu.hk/eprospectus/tpg/tuition-fees/p
		https://www51.polyu.edu.hk/eprospectus/tpg/tuition-fees/g
		https://www51.polyu.edu.hk/eprospectus/tpg/tuition-fees/t
		https://www51.polyu.edu.hk/eprospectus/tpg/tuition-fees/k
		https://www51.polyu.edu.hk/eprospectus/tpg/tuition-fees/c
		https://www51.polyu.edu.hk/eprospectus/tpg/tuition-fees/n
		https://www51.polyu.edu.hk/eprospectus/tpg/tuition-fees/e
		https://www51.polyu.edu.hk/eprospectus/tpg/tuition-fees/h
		https://www51.polyu.edu.hk/eprospectus/tpg/tuition-fees/a
		https://www51.polyu.edu.hk/eprospectus/tpg/tuition-fees/o
		https://www51.polyu.edu.hk/eprospectus/tpg/tuition-fees/d
		https://www51.polyu.edu.hk/eprospectus/tpg/selection-criteria
		https://www51.polyu.edu.hk/eprospectus/tpg/subject-base-admission
		https://www51.polyu.edu.hk/tpg/non-local-applicants
		HTTP Error 404: Not Found
		https://www51.polyu.edu.hk/eprospectus/tpg/applicants-with-disabilities
		https://www51.polyu.edu.hk/eprospectus/tpg/other-fees
		https://www51.polyu.edu.hk/eprospectus/tpg/mature-applicants
		https://www51.polyu.edu.hk/eprospectus/tpg/concurrent-enrolment
		https://www51.polyu.edu.hk/eprospectus/tpg/info-seminars
		https://www51.polyu.edu.hk/eprospectus/tpg/info-seminars/j
		https://www51.polyu.edu.hk/eprospectus/tpg/info-seminars/q
		https://www51.polyu.edu.hk/eprospectus/tpg/info-seminars/g
		https://www51.polyu.edu.hk/eprospectus/tpg/info-seminars/p
		https://www51.polyu.edu.hk/eprospectus/tpg/info-seminars/b
		https://www51.polyu.edu.hk/eprospectus/tpg/info-seminars/d
		https://www51.polyu.edu.hk/eprospectus/tpg/info-seminars/h
		https://www51.polyu.edu.hk/eprospectus/tpg/info-seminars/a
		https://www51.polyu.edu.hk/eprospectus/tpg/info-seminars/t
		https://www51.polyu.edu.hk/eprospectus/tpg/info-seminars/k
		https://www51.polyu.edu.hk/eprospectus/tpg/info-seminars/e
		https://www51.polyu.edu.hk/eprospectus/tpg/info-seminars/o
		https://www51.polyu.edu.hk/eprospectus/tpg/info-seminars/n
		https://www51.polyu.edu.hk/eprospectus/tpg/info-seminars/r
		https://www51.polyu.edu.hk/eprospectus/tpg/info-seminars/i
		https://www51.polyu.edu.hk/eprospectus/tpg/info-seminars/c
		https://www51.polyu.edu.hk/eprospectus/tpg/info-seminars/u
		https://www51.polyu.edu.hk/eprospectus/tpg/info-seminars/s
		https://www51.polyu.edu.hk/eprospectus/tpg/info-seminars/f
		https://www51.polyu.edu.hk/eprospectus/tpg/info-seminars/m
		http://www51.polyu.edu.hk/eprospectus/UG
		http://www51.polyu.edu.hk/eprospectus/ug/non-jupas#programme-list
		http://www51.polyu.edu.hk/eprospectus/ug/non-jupas-adhd-grad
		https://www51.polyu.edu.hk/eprospectus/ug/non-jupas-adhd-grad/tuition-fees
		https://www51.polyu.edu.hk/eprospectus/ug/non-jupas-adhd-grad/student-under-18
		https://www51.polyu.edu.hk/eprospectus/ug/non-jupas-adhd-grad/financial-assistance-and-scholarships
		https://www51.polyu.edu.hk/eprospectus/ug/non-jupas-adhd-grad/curriculum-structure
		https://www51.polyu.edu.hk/eprospectus/ug/non-jupas-adhd-grad/other-fees-and-expenses
		https://www51.polyu.edu.hk/eprospectus/ug/non-jupas-adhd-grad/application-procedures
		https://www51.polyu.edu.hk/eprospectus/ug/non-jupas-adhd-grad/interview-arrangement
		https://www51.polyu.edu.hk/eprospectus/ug/non-jupas-adhd-grad/2023/24442-syh
		http://www51.polyu.edu.hk/eprospectus/ug/non-jupas-adhd-grad/admissions-requirements
		https://www51.polyu.edu.hk/eprospectus/ug/non-jupas-adhd-grad/interview-arrangement/a
		https://www51.polyu.edu.hk/eprospectus/ug/non-jupas-adhd-grad/2023/02402-syf
		https://www51.polyu.edu.hk/eprospectus/ug/non-jupas-adhd-grad/2023/31470
		https://www51.polyu.edu.hk/eprospectus/ug/non-jupas-adhd-grad/2023/02402-sya
		https://www51.polyu.edu.hk/eprospectus/ug/non-jupas-adhd-grad/2023/54439-sye
		https://www51.polyu.edu.hk/eprospectus/ug/non-jupas-adhd-grad/2023/73416-sya
		https://www51.polyu.edu.hk/eprospectus/ug/non-jupas-adhd-grad/2023/73432
		https://www51.polyu.edu.hk/eprospectus/ug/non-jupas-adhd-grad/2023/31469-sy
		https://www51.polyu.edu.hk/eprospectus/ug/non-jupas-adhd-grad/2023/41470-sy
		https://www51.polyu.edu.hk/eprospectus/ug/non-jupas-adhd-grad/2023/43499-sym
		https://www51.polyu.edu.hk/eprospectus/ug/non-jupas-adhd-grad/2023/63428-syd
		https://www51.polyu.edu.hk/eprospectus/ug/non-jupas-adhd-grad/interview-arrangement/s
		https://www51.polyu.edu.hk/eprospectus/ug/non-jupas-adhd-grad/interview-arrangement/d
		https://www51.polyu.edu.hk/eprospectus/ug/non-jupas-adhd-grad/2023/02402-syi
		https://www51.polyu.edu.hk/eprospectus/ug/non-jupas-adhd-grad/2023/48403-sy
		https://www51.polyu.edu.hk/eprospectus/ug/non-jupas-adhd-grad/2023/61431-syh
		https://www51.polyu.edu.hk/eprospectus/ug/non-jupas-adhd-grad/2023/33477-sy
		https://www51.polyu.edu.hk/eprospectus/ug/non-jupas-adhd-grad/2023/02402-sym
		https://www51.polyu.edu.hk/eprospectus/ug/non-jupas-adhd-grad/interview-arrangement/h
		https://www51.polyu.edu.hk/eprospectus/ug/non-jupas-adhd-grad/2023/12456
		https://www51.polyu.edu.hk/eprospectus/ug/non-jupas-adhd-grad/2023/72422
		https://www51.polyu.edu.hk/eprospectus/ug/non-jupas-adhd-grad/interview-arrangement/l
		https://www51.polyu.edu.hk/eprospectus/ug/non-jupas-adhd-grad/interview-arrangement/f
		https://www51.polyu.edu.hk/eprospectus/ug/non-jupas-adhd-grad/2023/14406-sy
		https://www51.polyu.edu.hk/eprospectus/ug/non-jupas-adhd-grad/2023/73416-syp
		https://www51.polyu.edu.hk/eprospectus/ug/non-jupas-adhd-grad/2023/11439-sy
		https://www51.polyu.edu.hk/eprospectus/ug/non-jupas-adhd-grad/2023/45498-syp
		https://www51.polyu.edu.hk/eprospectus/ug/non-jupas-adhd-grad/2023/02402-sys
		https://www51.polyu.edu.hk/eprospectus/ug/non-jupas-adhd-grad/2023/45499-syl
		https://www51.polyu.edu.hk/eprospectus/ug/non-jupas-adhd-grad/2023/12454-sy
		https://www51.polyu.edu.hk/eprospectus/ug/non-jupas-adhd-grad/2023/73416-sye
		https://www51.polyu.edu.hk/eprospectus/ug/non-jupas-adhd-grad/2023/53455-sy
		https://www51.polyu.edu.hk/eprospectus/ug/non-jupas-adhd-grad/2023/71429-sy
		https://www51.polyu.edu.hk/eprospectus/ug/non-jupas-adhd-grad/2023/32405-sys
		https://www51.polyu.edu.hk/eprospectus/ug/non-jupas-adhd-grad/2023/77404-sy
		https://www51.polyu.edu.hk/eprospectus/ug/non-jupas-adhd-grad/interview-arrangement/c
		https://www51.polyu.edu.hk/eprospectus/ug/non-jupas-adhd-grad/2023/73436
		https://www51.polyu.edu.hk/eprospectus/ug/non-jupas-adhd-grad/interview-arrangement/b
		https://www51.polyu.edu.hk/eprospectus/ug/non-jupas-adhd-grad/2023/02402-syb
		https://www51.polyu.edu.hk/eprospectus/ug/non-jupas-adhd-grad/2023/32405-syb
		https://www51.polyu.edu.hk/eprospectus/ug/non-jupas-adhd-grad/2023/31474-sy
		https://www51.polyu.edu.hk/eprospectus/ug/non-jupas-adhd-grad/2023/02402-aml
		https://www51.polyu.edu.hk/eprospectus/ug/non-jupas-adhd-grad/2023/12447-sy
		https://www51.polyu.edu.hk/eprospectus/ug/non-jupas-adhd-grad/2023/54458
		https://www51.polyu.edu.hk/eprospectus/ug/non-jupas-adhd-grad/2023/47401-sy
		https://www51.polyu.edu.hk/eprospectus/ug/non-jupas-adhd-grad/interview-arrangement/t
		https://www51.polyu.edu.hk/eprospectus/ug/non-jupas-adhd-grad/2023/41481-sy
		https://www51.polyu.edu.hk/eprospectus/ug/non-jupas-adhd-grad/2023/73416-syc
		https://www51.polyu.edu.hk/eprospectus/ug/non-jupas-adhd-grad/2023/42470-sy
		https://www51.polyu.edu.hk/eprospectus/ug/non-jupas-adhd-grad/2023/32405-syp
		https://www51.polyu.edu.hk/eprospectus/ug/non-jupas-adhd-grad/interview-arrangement/p
		https://www51.polyu.edu.hk/eprospectus/ug/non-jupas-adhd-grad/2023/45498-syi
		https://www51.polyu.edu.hk/eprospectus/ug/non-jupas-adhd-grad/2023/43499-syp
		https://www51.polyu.edu.hk/eprospectus/ug/non-jupas-adhd-grad/2023/02402-syk
		https://www51.polyu.edu.hk/eprospectus/ug/non-jupas-adhd-grad/2023/42477-sy
		https://www51.polyu.edu.hk/eprospectus/ug/non-jupas-adhd-grad/2023/72423-sy
		https://www51.polyu.edu.hk/eprospectus/ug/non-jupas-adhd-grad/2023/34478-sy
		https://www51.polyu.edu.hk/eprospectus/ug/non-jupas-adhd-grad/interview-arrangement/n
		https://www51.polyu.edu.hk/eprospectus/ug/non-jupas-adhd-grad/2023/54439-syw
		https://www51.polyu.edu.hk/eprospectus/ug/non-jupas-adhd-grad/interview-arrangement/e
		https://www51.polyu.edu.hk/eprospectus/ug/non-jupas-adhd-grad/2023/42480
		https://www51.polyu.edu.hk/eprospectus/ug/non-jupas-adhd-grad/2023/45497
		https://www51.polyu.edu.hk/eprospectus/ug/non-jupas-adhd-grad/2023/12451-sy
		https://www51.polyu.edu.hk/eprospectus/ug/non-jupas-adhd-grad/2023/45499-sye
		https://www51.polyu.edu.hk/eprospectus/ug/non-jupas-adhd-grad/2023/73416-sds
		https://www51.polyu.edu.hk/eprospectus/ug/non-jupas-adhd-grad/interview-arrangement/i
		https://www51.polyu.edu.hk/eprospectus/ug/non-jupas-adhd-grad/2023/63426-sy
		https://www51.polyu.edu.hk/eprospectus/ug/non-jupas-adhd-grad/interview-arrangement/m
		https://www51.polyu.edu.hk/eprospectus/ug/non-jupas-adhd-grad/2023/24442-syv
		https://www51.polyu.edu.hk/eprospectus/ug/non-jupas-adhd-grad/inter-institutional-transfer
		https://www51.polyu.edu.hk/eprospectus/ug/non-jupas-adhd-grad/key-dates
		https://www51.polyu.edu.hk/eprospectus/ug/non-jupas-adhd-grad/credit-requirements
		https://www51.polyu.edu.hk/eprospectus/ug/non-jupas-adhd-grad/admissions-requirements
		https://www51.polyu.edu.hk/eprospectus/ug/non-jupas-adhd-grad/definition-of-non-local-applicants
		https://www51.polyu.edu.hk/eprospectus/ug/non-jupas-adhd-grad/programme-features
		https://www51.polyu.edu.hk/eprospectus/ug/non-jupas-adhd-grad/re-admission
		https://www51.polyu.edu.hk/eprospectus/ug/non-jupas-adhd-grad/additional-documents-required
		https://www51.polyu.edu.hk/eprospectus/ug/non-jupas-adhd-grad/additional-documents-required/c
		https://www51.polyu.edu.hk/eprospectus/ug/non-jupas-adhd-grad/additional-documents-required/i
		https://www51.polyu.edu.hk/eprospectus/ug/non-jupas-adhd-grad/additional-documents-required/f
		https://www51.polyu.edu.hk/eprospectus/ug/non-jupas-adhd-grad/additional-documents-required/l
		https://www51.polyu.edu.hk/eprospectus/ug/non-jupas-adhd-grad/additional-documents-required/m
		https://www51.polyu.edu.hk/eprospectus/ug/non-jupas-adhd-grad/additional-documents-required/s
		https://www51.polyu.edu.hk/eprospectus/ug/non-jupas-adhd-grad/additional-documents-required/e
		https://www51.polyu.edu.hk/eprospectus/ug/non-jupas-adhd-grad/additional-documents-required/t
		https://www51.polyu.edu.hk/eprospectus/ug/non-jupas-adhd-grad/additional-documents-required/n
		https://www51.polyu.edu.hk/eprospectus/ug/non-jupas-adhd-grad/additional-documents-required/a
		https://www51.polyu.edu.hk/eprospectus/ug/non-jupas-adhd-grad/additional-documents-required/h
		https://www51.polyu.edu.hk/eprospectus/ug/non-jupas-adhd-grad/additional-documents-required/b
		https://www51.polyu.edu.hk/eprospectus/ug/non-jupas-adhd-grad/additional-documents-required/p
		https://www51.polyu.edu.hk/eprospectus/ug/non-jupas-adhd-grad/additional-documents-required/d
		https://www51.polyu.edu.hk/eprospectus/ug/non-jupas-adhd-grad/concurrent-enrolment
		https://www51.polyu.edu.hk/eprospectus/ug/non-jupas-adhd-grad/mature-applicants
		https://www51.polyu.edu.hk/eprospectus/ug/non-jupas-adhd-grad/programme-updates
		https://www51.polyu.edu.hk/eprospectus/ug/non-jupas-adhd-grad/credit-transfer-and-exemption
		https://www51.polyu.edu.hk/eprospectus/ug/non-jupas-adhd-grad/applicants-with-disabilities
		http://www51.polyu.edu.hk/eprospectus/ug/jupas/faq
		http://www51.polyu.edu.hk/eprospectus/ug/jupas/admission-selection
		https://www51.polyu.edu.hk/eprospectus/ug/jupas/secondary-major
		http://www51.polyu.edu.hk/eprospectus/ug/jupas#programme-list
		http://www51.polyu.edu.hk/eprospectus/ug/non-jupas-adhd-grad#programme-list
		http://www51.polyu.edu.hk/eprospectus/ug/non-jupas/faq
		http://www51.polyu.edu.hk/eprospectus/ug/non-jupas-adhd-grad/faq
		http://www51.polyu.edu.hk/eprospectus/ug/non-jupas-adhd-grad/inter-institutional-transfer
		http://www51.polyu.edu.hk/eprospectus/ug/non-jupas-adhd-grad/interview-arrangement
		http://www51.polyu.edu.hk/eprospectus/ug/non-jupas-adhd-grad/additional-documents-required
		http://www51.polyu.edu.hk/eprospectus/ug/jee/admission-requirement
		https://www51.polyu.edu.hk/eprospectus/ug/jee/additional-documents-required/m
		https://www51.polyu.edu.hk/eprospectus/ug/jee/2023/js3110
		https://www51.polyu.edu.hk/eprospectus/ug/jee/2023/js3557
		https://www51.polyu.edu.hk/eprospectus/ug/jee/2023/js3571
		https://www51.polyu.edu.hk/eprospectus/ug/jee/2023/js3080
		https://www51.polyu.edu.hk/eprospectus/ug/jee/2023/js3478
		https://www51.polyu.edu.hk/eprospectus/ug/jee/2023/js3150
		https://www51.polyu.edu.hk/eprospectus/ug/jee/2023/js3330
		https://www51.polyu.edu.hk/eprospectus/ug/jee/2023/js3060
		https://www51.polyu.edu.hk/eprospectus/ug/jee/additional-documents-required/e
		https://www51.polyu.edu.hk/eprospectus/ug/jee/2023/js3636
		https://www51.polyu.edu.hk/eprospectus/ug/jee/2023/js3337
		https://www51.polyu.edu.hk/eprospectus/ug/jee/additional-documents-required/s
		https://www51.polyu.edu.hk/eprospectus/ug/jee/additional-documents-required/f
		https://www51.polyu.edu.hk/eprospectus/ug/jee/2023/js3250
		https://www51.polyu.edu.hk/eprospectus/ug/jee/additional-documents-required/n
		https://www51.polyu.edu.hk/eprospectus/ug/jee/2023/js3100
		https://www51.polyu.edu.hk/eprospectus/ug/jee/2023/js3868
		https://www51.polyu.edu.hk/eprospectus/ug/jee/2023/js3050
		https://www51.polyu.edu.hk/eprospectus/ug/jee/2023/js3240
		https://www51.polyu.edu.hk/eprospectus/ug/jee/2023/js3648
		https://www51.polyu.edu.hk/eprospectus/ug/jee/2023/js3070
		https://www51.polyu.edu.hk/eprospectus/ug/jee/2023/js3569
		https://www51.polyu.edu.hk/eprospectus/ug/jee/additional-documents-required/p
		https://www51.polyu.edu.hk/eprospectus/ug/jee/additional-documents-required/r
		https://www51.polyu.edu.hk/eprospectus/ug/jee/additional-documents-required/a
		https://www51.polyu.edu.hk/eprospectus/ug/jee/2023/js3320
		https://www51.polyu.edu.hk/eprospectus/ug/jee/additional-documents-required/h
		https://www51.polyu.edu.hk/eprospectus/ug/jee/additional-documents-required/i
		https://www51.polyu.edu.hk/eprospectus/ug/jee/additional-documents-required/c
		https://www51.polyu.edu.hk/eprospectus/ug/jee/2023/js3741
		https://www51.polyu.edu.hk/eprospectus/ug/jee/2023/js3130
		https://www51.polyu.edu.hk/eprospectus/ug/jee/2023/js3612
		https://www51.polyu.edu.hk/eprospectus/ug/jee/2023/js3140
		https://www51.polyu.edu.hk/eprospectus/ug/jee/2023/js3120
		https://www51.polyu.edu.hk/eprospectus/ug/jee/2023/js3030
		https://www51.polyu.edu.hk/eprospectus/ug/jee/2023/js3180
		https://www51.polyu.edu.hk/eprospectus/ug/jee/2023/js3010
		https://www51.polyu.edu.hk/eprospectus/ug/jee/2023/js3310
		https://www51.polyu.edu.hk/eprospectus/ug/jee/2023/js3624
		https://www51.polyu.edu.hk/eprospectus/ug/jee/additional-documents-required/l
		https://www51.polyu.edu.hk/eprospectus/ug/jee/additional-documents-required/o
		https://www51.polyu.edu.hk/eprospectus/ug/jee/additional-documents-required/d
		https://www51.polyu.edu.hk/eprospectus/ug/jee/additional-documents-required/b
		https://www51.polyu.edu.hk/eprospectus/ug/jee/2023/js3290
		https://www51.polyu.edu.hk/eprospectus/ug/jee/2023/js3170
		https://www51.polyu.edu.hk/eprospectus/ug/jee/applicants-with-disabilities
		https://www51.polyu.edu.hk/eprospectus/ug/jee/departmental-scheme-based-admission
		https://www51.polyu.edu.hk/eprospectus/ug/jee/jee-key-dates
		https://www51.polyu.edu.hk/eprospectus/ug/jee/financial-assistance-and-scholarships
		https://www51.polyu.edu.hk/eprospectus/ug/jee/special-services-for-non-local-students
		https://www51.polyu.edu.hk/eprospectus/ug/jee/entrance-requirements-summary
		https://www51.polyu.edu.hk/eprospectus/ug/jee/entrance-requirements-summary/a
		https://www51.polyu.edu.hk/eprospectus/ug/jee/entrance-requirements-summary/p
		https://www51.polyu.edu.hk/eprospectus/ug/jee/entrance-requirements-summary/l
		https://www51.polyu.edu.hk/eprospectus/ug/jee/entrance-requirements-summary/m
		https://www51.polyu.edu.hk/eprospectus/ug/jee/entrance-requirements-summary/s
		https://www51.polyu.edu.hk/eprospectus/ug/jee/entrance-requirements-summary/e
		https://www51.polyu.edu.hk/eprospectus/ug/jee/entrance-requirements-summary/c
		https://www51.polyu.edu.hk/eprospectus/ug/jee/entrance-requirements-summary/f
		https://www51.polyu.edu.hk/eprospectus/ug/jee/entrance-requirements-summary/n
		https://www51.polyu.edu.hk/eprospectus/ug/jee/entrance-requirements-summary/o
		https://www51.polyu.edu.hk/eprospectus/ug/jee/entrance-requirements-summary/d
		https://www51.polyu.edu.hk/eprospectus/ug/jee/entrance-requirements-summary/r
		https://www51.polyu.edu.hk/eprospectus/ug/jee/entrance-requirements-summary/h
		https://www51.polyu.edu.hk/eprospectus/ug/jee/entrance-requirements-summary/i
		https://www51.polyu.edu.hk/eprospectus/ug/jee/entrance-requirements-summary/b
		https://www51.polyu.edu.hk/eprospectus/ug/jee/admission-requirement
		https://www51.polyu.edu.hk/eprospectus/ug/jee/tuition-fees-government-funded-programmes
		https://www51.polyu.edu.hk/eprospectus/ug/jee/student-visa-application
		https://www51.polyu.edu.hk/eprospectus/ug/jee/jee-scores
		https://www51.polyu.edu.hk/eprospectus/ug/jee/students-under-18
		https://www51.polyu.edu.hk/eprospectus/ug/jee/enquiries
		https://www51.polyu.edu.hk/eprospectus/ug/jee/concurrent-enrolment
		https://www51.polyu.edu.hk/eprospectus/ug/jee/definition-of-non-local-applicants
		https://www51.polyu.edu.hk/eprospectus/ug/jee/other-fees-and-expenses
		https://www51.polyu.edu.hk/eprospectus/ug/jee/application-procedures-and-important-points-to-note
		https://www51.polyu.edu.hk/eprospectus/ug/jee/programme-structure
		https://www51.polyu.edu.hk/eprospectus/ug/jee/re-admission
		https://www51.polyu.edu.hk/eprospectus/ug/jee/faq
		https://www51.polyu.edu.hk/eprospectus/ug/jee#programme-list
		https://www51.polyu.edu.hk/eprospectus/ug/international/re-admission
		https://www51.polyu.edu.hk/eprospectus/ug/international/key-dates
		https://www51.polyu.edu.hk/eprospectus/ug/international/concurrent-enrolment
		https://www51.polyu.edu.hk/eprospectus/ug/international/faq
		https://www51.polyu.edu.hk/eprospectus/ug/international/inter-institutional-transfer
		https://www51.polyu.edu.hk/eprospectus/ug/international/new-features
		https://www51.polyu.edu.hk/eprospectus/ug/international/student-under-18
		https://www51.polyu.edu.hk/eprospectus/ug/international/services-for-non-local-students
		https://www51.polyu.edu.hk/eprospectus/ug/international/other-fees-and-expenses
		https://www51.polyu.edu.hk/eprospectus/ug/international/application-procedures-and-important-points-to-note
		https://www51.polyu.edu.hk/eprospectus/ug/international/additional-documents-required
		https://www51.polyu.edu.hk/eprospectus/ug/international/programme-specific-requirements
		https://www51.polyu.edu.hk/eprospectus/ug/international/programme-specific-requirements/a
		https://www51.polyu.edu.hk/eprospectus/ug/international/programme-specific-requirements/d
		https://www51.polyu.edu.hk/eprospectus/ug/international/programme-specific-requirements/b
		https://www51.polyu.edu.hk/eprospectus/ug/international/programme-specific-requirements/l
		https://www51.polyu.edu.hk/eprospectus/ug/international/programme-specific-requirements/h
		https://www51.polyu.edu.hk/eprospectus/ug/international/programme-specific-requirements/o
		https://www51.polyu.edu.hk/eprospectus/ug/international/programme-specific-requirements/s
		https://www51.polyu.edu.hk/eprospectus/ug/international/programme-specific-requirements/n
		https://www51.polyu.edu.hk/eprospectus/ug/international/programme-specific-requirements/i
		https://www51.polyu.edu.hk/eprospectus/ug/international/programme-specific-requirements/r
		https://www51.polyu.edu.hk/eprospectus/ug/international/programme-specific-requirements/f
		https://www51.polyu.edu.hk/eprospectus/ug/international/programme-specific-requirements/p
		https://www51.polyu.edu.hk/eprospectus/ug/international/programme-specific-requirements/c
		https://www51.polyu.edu.hk/eprospectus/ug/international/programme-specific-requirements/m
		https://www51.polyu.edu.hk/eprospectus/ug/international/programme-specific-requirements/e
		https://www51.polyu.edu.hk/eprospectus/ug/international/admission-figures-for-gce-ib-qualifications
		https://www51.polyu.edu.hk/eprospectus/ug/international/english-language-requirements
		https://www51.polyu.edu.hk/eprospectus/ug/international/departmental-scheme-based-admission
		https://www51.polyu.edu.hk/eprospectus/ug/international/credit-transfer-and-exemption
		https://www51.polyu.edu.hk/eprospectus/ug/international/guidelines-on-non-local-qualifications
		http://www51.polyu.edu.hk/eprospectus/ug/international/credit-transfer-and-exemption
		https://www51.polyu.edu.hk/eprospectus/ug/international/enquiries
		https://www51.polyu.edu.hk/eprospectus/ug/international/applicants-with-disabilities
		https://www51.polyu.edu.hk/eprospectus/ug/international/tuition-fees-government-funded-programmes
		https://www51.polyu.edu.hk/eprospectus/ug/international/definition-of-non-local-applicants
		https://www51.polyu.edu.hk/eprospectus/ug/international/student-visa-application
		https://www51.polyu.edu.hk/eprospectus/ug/international/programme-features
		https://www51.polyu.edu.hk/eprospectus/ug/international/accommodation
		https://www51.polyu.edu.hk/eprospectus/ug/international/distinctive-features
		https://www51.polyu.edu.hk/eprospectus/ug/international/curriculum-structure
		https://www51.polyu.edu.hk/eprospectus/ug/international/financial-assistance-and-scholarships
		https://www51.polyu.edu.hk/eprospectus/ug/international/programme-updates
		http://www51.polyu.edu.hk/eprospectus/ug/non-jupas/admission-figures-for-gce-ib-qualifications
		https://www51.polyu.edu.hk/javascript:toggle5('contentDivImg35', 'imageDivLink35')
		URL can't contain control characters. "/javascript:toggle5('contentDivImg35', 'imageDivLink35')" (found at least ' ')
		https://www51.polyu.edu.hk/eprospectus/ug/non-jupas/key-dates
		https://www51.polyu.edu.hk/javascript:toggle5('contentDivImg9', 'imageDivLink9')
		URL can't contain control characters. "/javascript:toggle5('contentDivImg9', 'imageDivLink9')" (found at least ' ')
		https://www51.polyu.edu.hk/javascript:toggle5('contentDivImg4', 'imageDivLink4')
		URL can't contain control characters. "/javascript:toggle5('contentDivImg4', 'imageDivLink4')" (found at least ' ')
		https://www51.polyu.edu.hk/eprospectus/ug/non-jupas/distinctive-features
		https://www51.polyu.edu.hk/javascript:toggle5('contentDivImg1', 'imageDivLink1')
		URL can't contain control characters. "/javascript:toggle5('contentDivImg1', 'imageDivLink1')" (found at least ' ')
		https://www51.polyu.edu.hk/javascript:toggle5('contentDivImg22', 'imageDivLink22')
		URL can't contain control characters. "/javascript:toggle5('contentDivImg22', 'imageDivLink22')" (found at least ' ')
		https://www51.polyu.edu.hk/javascript:toggle5('contentDivImg25', 'imageDivLink25')
		URL can't contain control characters. "/javascript:toggle5('contentDivImg25', 'imageDivLink25')" (found at least ' ')
		https://www51.polyu.edu.hk/eprospectus/ug/non-jupas/interview-arrangement
		https://www51.polyu.edu.hk/eprospectus/ug/non-jupas/2023/js3080
		https://www51.polyu.edu.hk/eprospectus/ug/non-jupas/2023/js3120
		https://www51.polyu.edu.hk/eprospectus/ug/non-jupas/interview-arrangement/m
		https://www51.polyu.edu.hk/eprospectus/ug/non-jupas/interview-arrangement/b
		https://www51.polyu.edu.hk/eprospectus/ug/non-jupas/interview-arrangement/h
		https://www51.polyu.edu.hk/eprospectus/ug/non-jupas/2023/js3100
		https://www51.polyu.edu.hk/eprospectus/ug/non-jupas/interview-arrangement/e
		https://www51.polyu.edu.hk/eprospectus/ug/non-jupas/interview-arrangement/s
		https://www51.polyu.edu.hk/eprospectus/ug/non-jupas/2023/js3180
		https://www51.polyu.edu.hk/eprospectus/ug/non-jupas/interview-arrangement/l
		https://www51.polyu.edu.hk/eprospectus/ug/non-jupas/2023/js3612
		https://www51.polyu.edu.hk/eprospectus/ug/non-jupas/2023/js3250
		https://www51.polyu.edu.hk/eprospectus/ug/non-jupas/2023/js3571
		https://www51.polyu.edu.hk/eprospectus/ug/non-jupas/2023/js3150
		https://www51.polyu.edu.hk/eprospectus/ug/non-jupas/interview-arrangement/o
		https://www51.polyu.edu.hk/eprospectus/ug/non-jupas/2023/js3330
		https://www51.polyu.edu.hk/eprospectus/ug/non-jupas/2023/js3337
		https://www51.polyu.edu.hk/eprospectus/ug/non-jupas/2023/js3624
		https://www51.polyu.edu.hk/eprospectus/ug/non-jupas/2023/js3310
		https://www51.polyu.edu.hk/eprospectus/ug/non-jupas/interview-arrangement/r
		https://www51.polyu.edu.hk/eprospectus/ug/non-jupas/2023/js3170
		https://www51.polyu.edu.hk/eprospectus/ug/non-jupas/2023/js3478
		https://www51.polyu.edu.hk/eprospectus/ug/non-jupas/2023/js3868
		https://www51.polyu.edu.hk/eprospectus/ug/non-jupas/2023/js3050
		https://www51.polyu.edu.hk/eprospectus/ug/non-jupas/interview-arrangement/d
		https://www51.polyu.edu.hk/eprospectus/ug/non-jupas/2023/js3240
		https://www51.polyu.edu.hk/eprospectus/ug/non-jupas/2023/js3070
		https://www51.polyu.edu.hk/eprospectus/ug/non-jupas/interview-arrangement/n
		https://www51.polyu.edu.hk/eprospectus/ug/non-jupas/2023/js3140
		https://www51.polyu.edu.hk/eprospectus/ug/non-jupas/2023/js3648
		https://www51.polyu.edu.hk/eprospectus/ug/non-jupas/2023/js3320
		https://www51.polyu.edu.hk/eprospectus/ug/non-jupas/2023/js3557
		https://www51.polyu.edu.hk/eprospectus/ug/non-jupas/interview-arrangement/c
		https://www51.polyu.edu.hk/eprospectus/ug/non-jupas/2023/js3636
		https://www51.polyu.edu.hk/eprospectus/ug/non-jupas/2023/js3741
		https://www51.polyu.edu.hk/eprospectus/ug/non-jupas/2023/js3020
		https://www51.polyu.edu.hk/eprospectus/ug/non-jupas/2023/js3030
		https://www51.polyu.edu.hk/eprospectus/ug/non-jupas/2023/js3110
		https://www51.polyu.edu.hk/eprospectus/ug/non-jupas/2023/js3130
		https://www51.polyu.edu.hk/eprospectus/ug/non-jupas/interview-arrangement/p
		https://www51.polyu.edu.hk/eprospectus/ug/non-jupas/2023/js3060
		https://www51.polyu.edu.hk/eprospectus/ug/non-jupas/interview-arrangement/a
		https://www51.polyu.edu.hk/eprospectus/ug/non-jupas/2023/js3290
		https://www51.polyu.edu.hk/eprospectus/ug/non-jupas/2023/js3010
		https://www51.polyu.edu.hk/eprospectus/ug/non-jupas/interview-arrangement/f
		https://www51.polyu.edu.hk/eprospectus/ug/non-jupas/interview-arrangement/i
		https://www51.polyu.edu.hk/eprospectus/ug/non-jupas/2023/js3569
		https://www51.polyu.edu.hk/javascript:toggle5('contentDivImg32', 'imageDivLink32')
		URL can't contain control characters. "/javascript:toggle5('contentDivImg32', 'imageDivLink32')" (found at least ' ')
		https://www51.polyu.edu.hk/javascript:toggle5('contentDivImg43', 'imageDivLink43')
		URL can't contain control characters. "/javascript:toggle5('contentDivImg43', 'imageDivLink43')" (found at least ' ')
		https://www51.polyu.edu.hk/javascript:toggle5('contentDivImg37', 'imageDivLink37')
		URL can't contain control characters. "/javascript:toggle5('contentDivImg37', 'imageDivLink37')" (found at least ' ')
		https://www51.polyu.edu.hk/eprospectus/ug/non-jupas/new-features
		http://www51.polyu.edu.hk/eprospectus/ug/non-jupas/additional-documents-required
		https://www51.polyu.edu.hk/eprospectus/ug/non-jupas/additional-documents-required/b
		https://www51.polyu.edu.hk/eprospectus/ug/non-jupas/additional-documents-required/n
		https://www51.polyu.edu.hk/eprospectus/ug/non-jupas/additional-documents-required/i
		https://www51.polyu.edu.hk/eprospectus/ug/non-jupas/additional-documents-required/c
		https://www51.polyu.edu.hk/eprospectus/ug/non-jupas/additional-documents-required/f
		https://www51.polyu.edu.hk/eprospectus/ug/non-jupas/additional-documents-required/e
		https://www51.polyu.edu.hk/eprospectus/ug/non-jupas/additional-documents-required/s
		https://www51.polyu.edu.hk/eprospectus/ug/non-jupas/additional-documents-required/l
		https://www51.polyu.edu.hk/eprospectus/ug/non-jupas/additional-documents-required/o
		https://www51.polyu.edu.hk/eprospectus/ug/non-jupas/additional-documents-required/p
		https://www51.polyu.edu.hk/eprospectus/ug/non-jupas/additional-documents-required/a
		https://www51.polyu.edu.hk/eprospectus/ug/non-jupas/additional-documents-required/r
		https://www51.polyu.edu.hk/eprospectus/ug/non-jupas/additional-documents-required/h
		https://www51.polyu.edu.hk/eprospectus/ug/non-jupas/additional-documents-required/d
		https://www51.polyu.edu.hk/eprospectus/ug/non-jupas/additional-documents-required/m
		https://www51.polyu.edu.hk/eprospectus/ug/non-jupas/definition-of-non-local-applicants
		https://www51.polyu.edu.hk/eprospectus/ug/non-jupas/additional-documents-required
		https://www51.polyu.edu.hk/javascript:toggle5('contentDivImg45', 'imageDivLink45')
		URL can't contain control characters. "/javascript:toggle5('contentDivImg45', 'imageDivLink45')" (found at least ' ')
		https://www51.polyu.edu.hk/javascript:toggle5('contentDivImg19', 'imageDivLink19')
		URL can't contain control characters. "/javascript:toggle5('contentDivImg19', 'imageDivLink19')" (found at least ' ')
		https://www51.polyu.edu.hk/javascript:toggle5('contentDivImg41', 'imageDivLink41')
		URL can't contain control characters. "/javascript:toggle5('contentDivImg41', 'imageDivLink41')" (found at least ' ')
		https://www51.polyu.edu.hk/eprospectus/ug/non-jupas/mature-applicants
		https://www51.polyu.edu.hk/javascript:toggle5('contentDivImg27', 'imageDivLink27')
		URL can't contain control characters. "/javascript:toggle5('contentDivImg27', 'imageDivLink27')" (found at least ' ')
		https://www51.polyu.edu.hk/javascript:toggle5('contentDivImg28', 'imageDivLink28')
		URL can't contain control characters. "/javascript:toggle5('contentDivImg28', 'imageDivLink28')" (found at least ' ')
		https://www51.polyu.edu.hk/javascript:toggle5('contentDivImg17', 'imageDivLink17')
		URL can't contain control characters. "/javascript:toggle5('contentDivImg17', 'imageDivLink17')" (found at least ' ')
		https://www51.polyu.edu.hk/javascript:toggle5('contentDivImg11', 'imageDivLink11')
		URL can't contain control characters. "/javascript:toggle5('contentDivImg11', 'imageDivLink11')" (found at least ' ')
		https://www51.polyu.edu.hk/eprospectus/ug/non-jupas/re-admission
		https://www51.polyu.edu.hk/javascript:toggle5('contentDivImg38', 'imageDivLink38')
		URL can't contain control characters. "/javascript:toggle5('contentDivImg38', 'imageDivLink38')" (found at least ' ')
		https://www51.polyu.edu.hk/javascript:toggle5('contentDivImg14', 'imageDivLink14')
		URL can't contain control characters. "/javascript:toggle5('contentDivImg14', 'imageDivLink14')" (found at least ' ')
		https://www51.polyu.edu.hk/eprospectus/ug/non-jupas/programme-features
		http://www51.polyu.edu.hk/eprospectus/ug/non-jupas/new-features
		http://www51.polyu.edu.hk/eprospectus/ug/non-jupas
		https://www51.polyu.edu.hk/javascript:toggle5('contentDivImg15', 'imageDivLink15')
		URL can't contain control characters. "/javascript:toggle5('contentDivImg15', 'imageDivLink15')" (found at least ' ')
		https://www51.polyu.edu.hk/javascript:toggle5('contentDivImg16', 'imageDivLink16')
		URL can't contain control characters. "/javascript:toggle5('contentDivImg16', 'imageDivLink16')" (found at least ' ')
		https://www51.polyu.edu.hk/eprospectus/ug/non-jupas/general-entrance-requirements
		http://www51.polyu.edu.hk/eprospectus/ug/non-jupas/english-language-requirements
		https://www51.polyu.edu.hk/javascript:toggle5('contentDivImg36', 'imageDivLink36')
		URL can't contain control characters. "/javascript:toggle5('contentDivImg36', 'imageDivLink36')" (found at least ' ')
		https://www51.polyu.edu.hk/javascript:toggle5('contentDivImg18', 'imageDivLink18')
		URL can't contain control characters. "/javascript:toggle5('contentDivImg18', 'imageDivLink18')" (found at least ' ')
		https://www51.polyu.edu.hk/javascript:toggle5('contentDivImg26', 'imageDivLink26')
		URL can't contain control characters. "/javascript:toggle5('contentDivImg26', 'imageDivLink26')" (found at least ' ')
		https://www51.polyu.edu.hk/javascript:toggle5('contentDivImg8', 'imageDivLink8')
		URL can't contain control characters. "/javascript:toggle5('contentDivImg8', 'imageDivLink8')" (found at least ' ')
		https://www51.polyu.edu.hk/eprospectus/ug/non-jupas/admission-figures-for-gce-ib-qualifications
		https://www51.polyu.edu.hk/javascript:toggle5('contentDivImg7', 'imageDivLink7')
		URL can't contain control characters. "/javascript:toggle5('contentDivImg7', 'imageDivLink7')" (found at least ' ')
		https://www51.polyu.edu.hk/eprospectus/admission-with-advanced-standing
		https://www51.polyu.edu.hk/eprospectus/ug/non-jupas/departmental-scheme-based-admission
		http://www51.polyu.edu.hk/eprospectus/ug/non-jupas/2023/js3080
		http://www51.polyu.edu.hk/eprospectus/ug/non-jupas/2023/js3010
		http://www51.polyu.edu.hk/eprospectus/ug/non-jupas/2023/js3569
		http://www51.polyu.edu.hk/eprospectus/ug/non-jupas/2023/js3250
		http://www51.polyu.edu.hk/eprospectus/ug/non-jupas/2023/js3310
		http://www51.polyu.edu.hk/eprospectus/ug/non-jupas/2023/js3100
		http://www51.polyu.edu.hk/eprospectus/ug/non-jupas/2023/js3070
		http://www51.polyu.edu.hk/eprospectus/ug/non-jupas/2023/js3060
		http://www51.polyu.edu.hk/eprospectus/ug/non-jupas/2023/js3330
		http://www51.polyu.edu.hk/eprospectus/ug/non-jupas/2023/js3050
		https://www51.polyu.edu.hk/eprospectus/ug/non-jupas/student-under-18
		https://www51.polyu.edu.hk/javascript:toggle5('contentDivImg2', 'imageDivLink2')
		URL can't contain control characters. "/javascript:toggle5('contentDivImg2', 'imageDivLink2')" (found at least ' ')
		https://www51.polyu.edu.hk/eprospectus/ug/non-jupas/application-procedures
		https://www51.polyu.edu.hk/javascript:toggle5('contentDivImg34', 'imageDivLink34')
		URL can't contain control characters. "/javascript:toggle5('contentDivImg34', 'imageDivLink34')" (found at least ' ')
		https://www51.polyu.edu.hk/javascript:toggle5('contentDivImg10', 'imageDivLink10')
		URL can't contain control characters. "/javascript:toggle5('contentDivImg10', 'imageDivLink10')" (found at least ' ')
		https://www51.polyu.edu.hk/javascript:toggle5('contentDivImg6', 'imageDivLink6')
		URL can't contain control characters. "/javascript:toggle5('contentDivImg6', 'imageDivLink6')" (found at least ' ')
		http://www51.polyu.edu.hk/eprospectus/ug/international/guidelines-on-non-local-qualifications
		https://www51.polyu.edu.hk/eprospectus/ug/non-jupas/programme-specific-requirements
		https://www51.polyu.edu.hk/eprospectus/ug/non-jupas/programme-specific-requirements/e
		https://www51.polyu.edu.hk/eprospectus/ug/non-jupas/programme-specific-requirements/m
		https://www51.polyu.edu.hk/eprospectus/ug/non-jupas/programme-specific-requirements/b
		https://www51.polyu.edu.hk/eprospectus/ug/non-jupas/programme-specific-requirements/o
		https://www51.polyu.edu.hk/eprospectus/ug/non-jupas/programme-specific-requirements/s
		https://www51.polyu.edu.hk/eprospectus/ug/non-jupas/programme-specific-requirements/d
		https://www51.polyu.edu.hk/eprospectus/ug/non-jupas/programme-specific-requirements/i
		https://www51.polyu.edu.hk/eprospectus/ug/non-jupas/programme-specific-requirements/n
		https://www51.polyu.edu.hk/eprospectus/ug/non-jupas/programme-specific-requirements/f
		https://www51.polyu.edu.hk/eprospectus/ug/non-jupas/programme-specific-requirements/a
		https://www51.polyu.edu.hk/eprospectus/ug/non-jupas/programme-specific-requirements/p
		https://www51.polyu.edu.hk/eprospectus/ug/non-jupas/programme-specific-requirements/r
		https://www51.polyu.edu.hk/eprospectus/ug/non-jupas/programme-specific-requirements/h
		https://www51.polyu.edu.hk/eprospectus/ug/non-jupas/programme-specific-requirements/c
		https://www51.polyu.edu.hk/eprospectus/ug/non-jupas/programme-specific-requirements/l
		https://www51.polyu.edu.hk/javascript:toggle5('contentDivImg33', 'imageDivLink33')
		URL can't contain control characters. "/javascript:toggle5('contentDivImg33', 'imageDivLink33')" (found at least ' ')
		https://www51.polyu.edu.hk/eprospectus/ug/non-jupas/other-fees-and-expenses
		https://www51.polyu.edu.hk/javascript:toggle5('contentDivImg42', 'imageDivLink42')
		URL can't contain control characters. "/javascript:toggle5('contentDivImg42', 'imageDivLink42')" (found at least ' ')
		https://www51.polyu.edu.hk/eprospectus/ug/non-jupas/programme-updates
		https://www51.polyu.edu.hk/javascript:toggle5('contentDivImg30', 'imageDivLink30')
		URL can't contain control characters. "/javascript:toggle5('contentDivImg30', 'imageDivLink30')" (found at least ' ')
		http://www51.polyu.edu.hk/eprospectus/ug/non-jupas/general-entrance-requirements
		https://www51.polyu.edu.hk/eprospectus/ug/non-jupas/curriculum-structure
		http://www51.polyu.edu.hk/eprospectus/ug/non-jupas/credit-transfer-and-Exemption
		https://www51.polyu.edu.hk/javascript:toggle5('contentDivImg23', 'imageDivLink23')
		URL can't contain control characters. "/javascript:toggle5('contentDivImg23', 'imageDivLink23')" (found at least ' ')
		http://www51.polyu.edu.hk/eprospectus/ug/non-jupas/inter-institutional-transfer
		https://www51.polyu.edu.hk/eprospectus/ug/non-jupas/inter-institutional-transfer
		https://www51.polyu.edu.hk/javascript:toggle5('contentDivImg44', 'imageDivLink44')
		URL can't contain control characters. "/javascript:toggle5('contentDivImg44', 'imageDivLink44')" (found at least ' ')
		https://www51.polyu.edu.hk/eprospectus/ug/non-jupas/concurrent-enrolment
		https://www51.polyu.edu.hk/eprospectus/ug/non-jupas/financial-assistance-and-scholarships
		https://www51.polyu.edu.hk/javascript:toggle5('contentDivImg20', 'imageDivLink20')
		URL can't contain control characters. "/javascript:toggle5('contentDivImg20', 'imageDivLink20')" (found at least ' ')
		https://www51.polyu.edu.hk/eprospectus/ug/non-jupas/credit-transfer-and-Exemption
		https://www51.polyu.edu.hk/eprospectus/ug/non-jupas/english-language-requirements
		https://www51.polyu.edu.hk/javascript:toggle5('contentDivImg5', 'imageDivLink5')
		URL can't contain control characters. "/javascript:toggle5('contentDivImg5', 'imageDivLink5')" (found at least ' ')
		https://www51.polyu.edu.hk/javascript:toggle5('contentDivImg39', 'imageDivLink39')
		URL can't contain control characters. "/javascript:toggle5('contentDivImg39', 'imageDivLink39')" (found at least ' ')
		https://www51.polyu.edu.hk/javascript:toggle5('contentDivImg29', 'imageDivLink29')
		URL can't contain control characters. "/javascript:toggle5('contentDivImg29', 'imageDivLink29')" (found at least ' ')
		https://www51.polyu.edu.hk/javascript:toggle5('contentDivImg40', 'imageDivLink40')
		URL can't contain control characters. "/javascript:toggle5('contentDivImg40', 'imageDivLink40')" (found at least ' ')
		https://www51.polyu.edu.hk/javascript:toggle5('contentDivImg12', 'imageDivLink12')
		URL can't contain control characters. "/javascript:toggle5('contentDivImg12', 'imageDivLink12')" (found at least ' ')
		https://www51.polyu.edu.hk/eprospectus/ug/non-jupas/applicants-with-disabilities
		https://www51.polyu.edu.hk/eprospectus/ug/jupas/financial-assistance-and-scholarships
		https://www51.polyu.edu.hk/eprospectus/ug/jupas/student-under-18
		https://www51.polyu.edu.hk/eprospectus/ug/jupas/new-features
		https://www51.polyu.edu.hk/eprospectus/ug/jupas/departmental-scheme-based-admission
		https://www51.polyu.edu.hk/eprospectus/ug/jupas/2023/js3080
		https://www51.polyu.edu.hk/eprospectus/ug/jupas/admission-selection#03
		https://www51.polyu.edu.hk/eprospectus/ug/jupas/2023/js3569
		https://www51.polyu.edu.hk/eprospectus/ug/jupas/2023/js3250
		https://www51.polyu.edu.hk/eprospectus/ug/jupas/2023/js3310
		https://www51.polyu.edu.hk/eprospectus/ug/jupas/2023/js3100
		https://www51.polyu.edu.hk/eprospectus/ug/jupas/2023/js3060
		https://www51.polyu.edu.hk/eprospectus/ug/jupas/2023/js3330
		https://www51.polyu.edu.hk/eprospectus/ug/jupas/2023/js3120
		https://www51.polyu.edu.hk/eprospectus/ug/jupas/2023/js3010
		https://www51.polyu.edu.hk/eprospectus/ug/jupas/2023/js3070
		https://www51.polyu.edu.hk/eprospectus/ug/jupas/admission-selection#Q03
		https://www51.polyu.edu.hk/eprospectus/ug/jupas/2023/js3050
		https://www51.polyu.edu.hk/eprospectus/ug/jupas/programme-requirements
		https://www51.polyu.edu.hk/eprospectus/ug/jupas/programme-requirements/e
		https://www51.polyu.edu.hk/eprospectus/ug/jupas/programme-requirements/n
		https://www51.polyu.edu.hk/eprospectus/ug/jupas/programme-requirements/p
		https://www51.polyu.edu.hk/eprospectus/ug/jupas/programme-requirements/l
		https://www51.polyu.edu.hk/eprospectus/ug/jupas/2023/js3130
		https://www51.polyu.edu.hk/eprospectus/ug/jupas/programme-requirements/c
		https://www51.polyu.edu.hk/eprospectus/ug/jupas/2023/js3240
		https://www51.polyu.edu.hk/eprospectus/ug/jupas/2023/js3624
		https://www51.polyu.edu.hk/eprospectus/ug/jupas/programme-requirements/b
		https://www51.polyu.edu.hk/eprospectus/ug/jupas/2023/js3648
		https://www51.polyu.edu.hk/eprospectus/ug/jupas/programme-requirements/a
		https://www51.polyu.edu.hk/eprospectus/ug/jupas/programme-requirements/d
		https://www51.polyu.edu.hk/eprospectus/ug/jupas/programme-requirements/i
		https://www51.polyu.edu.hk/eprospectus/ug/jupas/programme-requirements/s
		https://www51.polyu.edu.hk/eprospectus/ug/jupas/programme-requirements/o
		https://www51.polyu.edu.hk/eprospectus/ug/jupas/2023/js3030
		https://www51.polyu.edu.hk/eprospectus/ug/jupas/2023/js3337
		https://www51.polyu.edu.hk/eprospectus/ug/jupas/programme-requirements/f
		https://www51.polyu.edu.hk/eprospectus/ug/jupas/2023/js3150
		https://www51.polyu.edu.hk/eprospectus/ug/jupas/2023/js3110
		https://www51.polyu.edu.hk/tel:2766 5847
		URL can't contain control characters. '/tel:2766 5847' (found at least ' ')
		https://www51.polyu.edu.hk/eprospectus/ug/jupas/2023/js3140
		https://www51.polyu.edu.hk/eprospectus/ug/jupas/2023/js3320
		https://www51.polyu.edu.hk/eprospectus/ug/jupas/2023/js3741
		https://www51.polyu.edu.hk/eprospectus/ug/jupas/2023/js3290
		https://www51.polyu.edu.hk/eprospectus/ug/jupas/2023/js3020
		https://www51.polyu.edu.hk/eprospectus/ug/jupas/2023/js3170
		https://www51.polyu.edu.hk/eprospectus/ug/jupas/2023/js3571
		https://www51.polyu.edu.hk/eprospectus/ug/jupas/programme-requirements/r
		https://www51.polyu.edu.hk/eprospectus/ug/jupas/programme-requirements/h
		https://www51.polyu.edu.hk/eprospectus/ug/jupas/2023/js3612
		https://www51.polyu.edu.hk/eprospectus/ug/jupas/2023/js3868
		https://www51.polyu.edu.hk/eprospectus/ug/jupas/2023/js3557
		https://www51.polyu.edu.hk/eprospectus/ug/jupas/2023/js3478
		https://www51.polyu.edu.hk/eprospectus/ug/jupas/programme-requirements/m
		https://www51.polyu.edu.hk/eprospectus/ug/jupas/2023/js3180
		https://www51.polyu.edu.hk/eprospectus/ug/jupas/2023/js3636
		https://www51.polyu.edu.hk/eprospectus/ug/jupas/application-procedures
		https://www51.polyu.edu.hk/eprospectus/ug/non-jupas-adhd-grad#programme-list
		https://www51.polyu.edu.hk/eprospectus/ug/jupas/tuition-fees
		https://www51.polyu.edu.hk/eprospectus/ug/jupas/admission-selection
		https://www51.polyu.edu.hk/eprospectus/ug/jupas/other-fees-and-expenses
		https://www51.polyu.edu.hk/eprospectus/ug/jupas/key-dates
		https://www51.polyu.edu.hk/eprospectus/ug/jupas/faq
		https://www51.polyu.edu.hk/eprospectus/ug/jupas/credit-transfer-exemption
		https://www51.polyu.edu.hk/eprospectus/ug/non-jupas#programme-list
		https://www51.polyu.edu.hk/eprospectus/ug/jupas/applicants-with-disabilities
		https://www51.polyu.edu.hk/eprospectus/ug/jupas/non-local-applicants
		http://www51.polyu.edu.hk/eprospectus/ug/jupas/tuition-fees
		https://www51.polyu.edu.hk/eprospectus/ug/jupas/general-entrance-requirements
		https://www51.polyu.edu.hk/eprospectus/ug/jupas/interview-arrangement
		https://www51.polyu.edu.hk/eprospectus/ug/jupas/interview-arrangement/h
		https://www51.polyu.edu.hk/eprospectus/ug/jupas/interview-arrangement/e
		https://www51.polyu.edu.hk/eprospectus/ug/jupas/interview-arrangement/a
		https://www51.polyu.edu.hk/eprospectus/ug/jupas/interview-arrangement/n
		https://www51.polyu.edu.hk/eprospectus/ug/jupas/interview-arrangement/b
		https://www51.polyu.edu.hk/eprospectus/ug/jupas/interview-arrangement/r
		https://www51.polyu.edu.hk/eprospectus/ug/jupas/interview-arrangement/c
		https://www51.polyu.edu.hk/eprospectus/ug/jupas/interview-arrangement/p
		https://www51.polyu.edu.hk/eprospectus/ug/jupas/interview-arrangement/i
		https://www51.polyu.edu.hk/eprospectus/ug/jupas/interview-arrangement/d
		https://www51.polyu.edu.hk/eprospectus/ug/jupas/interview-arrangement/s
		https://www51.polyu.edu.hk/eprospectus/ug/jupas/interview-arrangement/o
		https://www51.polyu.edu.hk/eprospectus/ug/jupas/interview-arrangement/l
		https://www51.polyu.edu.hk/eprospectus/ug/jupas/interview-arrangement/m
		https://www51.polyu.edu.hk/eprospectus/ug/jupas/interview-arrangement/f
		https://www51.polyu.edu.hk/eprospectus/ug/non-jupas-adhd-grad/faq
		https://www51.polyu.edu.hk/eprospectus/ug/jupas/programme-features
		https://www51.polyu.edu.hk/eprospectus/ug/jupas#programme-list
		https://www51.polyu.edu.hk/eprospectus/ug/jupas/sndas
		https://www51.polyu.edu.hk/eprospectus/ug/jupas/inter-institutional-transfer
		https://www51.polyu.edu.hk/eprospectus/ug/jupas/re-admission
		https://www51.polyu.edu.hk/eprospectus/ug/jupas/curriculum-structure
		https://www51.polyu.edu.hk/eprospectus/ug/jupas/programme-updates
		https://www51.polyu.edu.hk/eprospectus/ug/jupas/distinctive-features
		https://www51.polyu.edu.hk/eprospectus/ug/non-jupas
		https://www51.polyu.edu.hk/eprospectus/ug/non-jupas-adhd-grad
		https://www51.polyu.edu.hk/eprospectus/ug/international
		https://www51.polyu.edu.hk/eprospectus/ug/jupas
		https://www51.polyu.edu.hk/eprospectus/tpg
		https://www51.polyu.edu.hk/eprospectus/ug/jee
		https://www51.polyu.edu.hk/eprospectus/ug-non-local
		https://www51.polyu.edu.hk/eprospectus/sitemap
		https://www51.polyu.edu.hk/eprospectus/ug/non-jupas-adhd-grad/non-academic-achievements
		http://www51.polyu.edu.hk/eprospectus/ug/non-jupas/programme-specific-requirements
		https://www51.polyu.edu.hk/eprospectus/ug/international/non-academic-achievements
		http://www51.polyu.edu.hk/eprospectus/rpg/faqs
		http://www51.polyu.edu.hk/eprospectus/rpg/general-expenses
		http://www51.polyu.edu.hk/eprospectus/ug/jee/new-features
		http://www51.polyu.edu.hk/eprospectus/rpg/programme-types
		http://www51.polyu.edu.hk/eprospectus/rpg/other-fees
		http://www51.polyu.edu.hk/eprospectus/rpg/normal-study-period
		HTTP Error 403: Forbidden
		http://www51.polyu.edu.hk/eprospectus/tpg/financial-assistance-and-scholarships
		https://www51.polyu.edu.hk/eprospectus/ug/non-jupas/non-academic-achievements
		http://www51.polyu.edu.hk/eprospectus/rpg/concurrent-enrolment
		http://www51.polyu.edu.hk/eprospectus/rpg/medium-of-instruction-and-thesis-presentation
		http://www51.polyu.edu.hk/eprospectus/rpg/financial-assistance
		http://www51.polyu.edu.hk/eprospectus/ug/international/programme-specific-requirements
		http://www51.polyu.edu.hk/eprospectus/rpg/residence-requirement
		http://www51.polyu.edu.hk/eprospectus/rpg/selection-criteria
		https://www51.polyu.edu.hk/eprospectus/ug/international/programmes-second-choice
		http://www51.polyu.edu.hk/eprospectus/rpg/caution-money
		https://www51.polyu.edu.hk/eprospectus/ug/non-jupas-adhd-grad/programmes-second-choice
		http://www51.polyu.edu.hk/eprospectus/rpg/enrolment-and-registration
		https://www51.polyu.edu.hk/eprospectus/ug/non-jupas/programmes-second-choice
		https://www51.polyu.edu.hk/eprospectus/rpg
		https://www51.polyu.edu.hk/eprospectus

Code cell <dash-W2tpMuf>
# %% [code]
from google.colab import drive
drive.mount('/content/drive')
Execution output from Aug 14, 2023 5:07 PM
0KB
	Stream
		Mounted at /content/drive

Code cell <kMFSJgfVfe4D>
# %% [code]
!pip install tiktoken openai
Execution output from Aug 14, 2023 5:07 PM
2KB
	Stream
		Collecting tiktoken
		  Downloading tiktoken-0.4.0-cp310-cp310-manylinux_2_17_x86_64.manylinux2014_x86_64.whl (1.7 MB)
		[2K     [90m━━━━━━━━━━━━━━━━━━━━━━━━━━━━━━━━━━━━━━━━[0m [32m1.7/1.7 MB[0m [31m8.4 MB/s[0m eta [36m0:00:00[0m
		[?25hCollecting openai
		  Downloading openai-0.27.8-py3-none-any.whl (73 kB)
		[2K     [90m━━━━━━━━━━━━━━━━━━━━━━━━━━━━━━━━━━━━━━━━[0m [32m73.6/73.6 kB[0m [31m8.4 MB/s[0m eta [36m0:00:00[0m
		[?25hRequirement already satisfied: regex>=2022.1.18 in /usr/local/lib/python3.10/dist-packages (from tiktoken) (2023.6.3)
		Requirement already satisfied: requests>=2.26.0 in /usr/local/lib/python3.10/dist-packages (from tiktoken) (2.31.0)
		Requirement already satisfied: tqdm in /usr/local/lib/python3.10/dist-packages (from openai) (4.66.0)
		Requirement already satisfied: aiohttp in /usr/local/lib/python3.10/dist-packages (from openai) (3.8.5)
		Requirement already satisfied: charset-normalizer<4,>=2 in /usr/local/lib/python3.10/dist-packages (from requests>=2.26.0->tiktoken) (3.2.0)
		Requirement already satisfied: idna<4,>=2.5 in /usr/local/lib/python3.10/dist-packages (from requests>=2.26.0->tiktoken) (3.4)
		Requirement already satisfied: urllib3<3,>=1.21.1 in /usr/local/lib/python3.10/dist-packages (from requests>=2.26.0->tiktoken) (2.0.4)
		Requirement already satisfied: certifi>=2017.4.17 in /usr/local/lib/python3.10/dist-packages (from requests>=2.26.0->tiktoken) (2023.7.22)
		Requirement already satisfied: attrs>=17.3.0 in /usr/local/lib/python3.10/dist-packages (from aiohttp->openai) (23.1.0)
		Requirement already satisfied: multidict<7.0,>=4.5 in /usr/local/lib/python3.10/dist-packages (from aiohttp->openai) (6.0.4)
		Requirement already satisfied: async-timeout<5.0,>=4.0.0a3 in /usr/local/lib/python3.10/dist-packages (from aiohttp->openai) (4.0.2)
		Requirement already satisfied: yarl<2.0,>=1.0 in /usr/local/lib/python3.10/dist-packages (from aiohttp->openai) (1.9.2)
		Requirement already satisfied: frozenlist>=1.1.1 in /usr/local/lib/python3.10/dist-packages (from aiohttp->openai) (1.4.0)
		Requirement already satisfied: aiosignal>=1.1.2 in /usr/local/lib/python3.10/dist-packages (from aiohttp->openai) (1.3.1)
		Installing collected packages: tiktoken, openai
		Successfully installed openai-0.27.8 tiktoken-0.4.0

Code cell <-AOmkroDfdQ_>
# %% [code]
def remove_newlines(serie):
    serie = serie.str.replace('\n', ' ')
    serie = serie.str.replace('\\n', ' ')
    serie = serie.str.replace('  ', ' ')
    serie = serie.str.replace('  ', ' ')
    return serie

Code cell <qsdkmVLpfdQ_>
# %% [code]
import os
import pandas as pd

# Create a list to store the text files
texts=[]
domain = "www51.polyu.edu.hk"
# Get all the text files in the text directory
for file in os.listdir("/content/drive/MyDrive/text/" + domain + "/"):

    # Open the file and read the text
    with open("/content/drive/MyDrive/text/" + domain + "/" + file, "r") as f:
        text = f.read()

        # Omit the first 11 lines and the last 4 lines, then replace -, _, and #update with spaces.
        texts.append((file[11:-4].replace('-',' ').replace('_', ' ').replace('#update',''), text))

# Create a dataframe from the list of texts
df = pd.DataFrame(texts, columns = ['fname', 'text'])

# Set the text column to be the raw text with the newlines removed
df['text'] = df.fname + ". " + remove_newlines(df.text)
df.to_csv('/content/drive/MyDrive/processed/scraped.csv')
df.head()
Execution output from Aug 12, 2023 1:53 PM
8KB
	Stream
		<ipython-input-3-429202555403>:3: FutureWarning: The default value of regex will change from True to False in a future version.
		  serie = serie.str.replace('\\n', ' ')
	text/plain
		fname  \
		0                                            .edu.hk   
		1                             .edu.hk eprospectus UG   
		2  .edu.hk eprospectus ug jupas concurrent enrolment   
		3               .edu.hk eprospectus ug non jupas faq   
		4  .edu.hk javascript:toggle5('contentDivImg13', ...   
		
		                                                text  
		0  .edu.hk. ﻿   Study@PolyU                Search...  
		1  .edu.hk eprospectus UG. ﻿   Study@PolyU       ...  
		2  .edu.hk eprospectus ug jupas concurrent enrolm...  
		3  .edu.hk eprospectus ug non jupas faq. ﻿    Stu...  
		4  .edu.hk javascript:toggle5('contentDivImg13', ...

Code cell <T3H_lGiTfdRA>
# %% [code]
import tiktoken

# Load the cl100k_base tokenizer which is designed to work with the ada-002 model
tokenizer = tiktoken.get_encoding("cl100k_base")

df = pd.read_csv('/content/drive/MyDrive/processed/scraped.csv', index_col=0)
df.columns = ['title', 'text']

# Tokenize the text and save the number of tokens to a new column
df['n_tokens'] = df.text.apply(lambda x: len(tokenizer.encode(x)))

# Visualize the distribution of the number of tokens per row using a histogram
df.n_tokens.hist()
Execution output from Aug 12, 2023 1:53 PM
14KB
	text/plain
		<Axes: >
		<Figure size 640x480 with 1 Axes>

Code cell <Alv_epyGfdRA>
# %% [code]
max_tokens = 500

# Function to split the text into chunks of a maximum number of tokens
def split_into_many(text, max_tokens = max_tokens):

    # Split the text into sentences
    sentences = text.split('. ')

    # Get the number of tokens for each sentence
    n_tokens = [len(tokenizer.encode(" " + sentence)) for sentence in sentences]

    chunks = []
    tokens_so_far = 0
    chunk = []

    # Loop through the sentences and tokens joined together in a tuple
    for sentence, token in zip(sentences, n_tokens):

        # If the number of tokens so far plus the number of tokens in the current sentence is greater
        # than the max number of tokens, then add the chunk to the list of chunks and reset
        # the chunk and tokens so far
        if tokens_so_far + token > max_tokens:
            chunks.append(". ".join(chunk) + ".")
            chunk = []
            tokens_so_far = 0

        # If the number of tokens in the current sentence is greater than the max number of
        # tokens, go to the next sentence
        if token > max_tokens:
            continue

        # Otherwise, add the sentence to the chunk and add the number of tokens to the total
        chunk.append(sentence)
        tokens_so_far += token + 1

    return chunks


shortened = []

# Loop through the dataframe
for row in df.iterrows():

    # If the text is None, go to the next row
    if row[1]['text'] is None:
        continue

    # If the number of tokens is greater than the max number of tokens, split the text into chunks
    if row[1]['n_tokens'] > max_tokens:
        shortened += split_into_many(row[1]['text'])

    # Otherwise, add the text to the list of shortened texts
    else:
        shortened.append( row[1]['text'] )

Code cell <dPTWZZ-HfdRA>
# %% [code]
df = pd.DataFrame(shortened, columns = ['text'])
df['n_tokens'] = df.text.apply(lambda x: len(tokenizer.encode(x)))
df.n_tokens.hist()
Execution output from Aug 12, 2023 1:53 PM
14KB
	text/plain
		<Axes: >
		<Figure size 640x480 with 1 Axes>

Code cell <2juELSPnpwEh>
# %% [code]
df.head
Execution output from Aug 9, 2023 8:14 PM
1KB
	text/plain
		<bound method NDFrame.head of                                                    text  n_tokens
		0     .edu.hk. ﻿   Study@PolyU                Search...       332
		1     .edu.hk eprospectus UG. ﻿   Study@PolyU       ...       202
		2     .edu.hk eprospectus ug jupas concurrent enrolm...       409
		3     .edu.hk eprospectus ug non jupas faq. ﻿    Stu...       500
		4     Local and non-local applicants are considered ...       491
		...                                                 ...       ...
		2085  .edu.hk eprospectus ug non jupas adhd grad pro...       464
		2086  edu.hk eprospectus rpg enrolment and registrat...       488
		2087  .edu.hk eprospectus ug non jupas programmes se...       473
		2088  .edu.hk eprospectus rpg. ﻿   Study@PolyU      ...       334
		2089  .edu.hk eprospectus. ﻿   Study@PolyU          ...       336
		
		[2090 rows x 2 columns]>

Code cell <BjUGldE7l0Qn>
# %% [code]
import time
import openai
import numpy as np
from openai.embeddings_utils import distances_from_embeddings

openai.api_key = 'your key'

embeddings=[]
for i in range(0, len(df), 5):
  texts = []
  for j in range(5):
    if len(df) > (i + j):
      texts.append(df.iloc[i+j, 0])

  emb = openai.Embedding.create(input=texts, engine='text-embedding-ada-002')

  for j in range(5):
    if len(df) > (i + j):
      embeddings.append(emb['data'][j]['embedding'])
  time.sleep(1)

print(len(embeddings))
df['embeddings']=embeddings
df.to_csv('/content/drive/MyDrive/processed/embeddings.csv')
df.head()
Execution output from Aug 12, 2023 1:54 PM
2KB
	Error
		KeyboardInterrupt
		---------------------------------------------------------------------------
		KeyboardInterrupt                         Traceback (most recent call last)
		<ipython-input-8-9459686cf98e> in <cell line: 9>()
		     18     if len(df) > (i + j):
		     19       embeddings.append(emb['data'][j]['embedding'])
		---> 20   time.sleep(1)
		     21 
		     22 print(len(embeddings))
		
		KeyboardInterrupt: 

Code cell <CF9vJzqwfdRC>
# %% [code]
import pandas as pd
import numpy as np
from ast import literal_eval
import openai
from openai.embeddings_utils import distances_from_embeddings, cosine_similarity

openai.api_key = 'your key'

df=pd.read_csv('/content/drive/MyDrive/processed/embeddings.csv', index_col=0)
df['embeddings'] = df['embeddings'].apply(literal_eval).apply(np.array)

df.head()
Execution output from Aug 14, 2023 5:08 PM
8KB
	text/plain
		text  n_tokens  \
		0  .edu.hk. ﻿   Study@PolyU                Search...       332   
		1  .edu.hk eprospectus UG. ﻿   Study@PolyU       ...       202   
		2  .edu.hk eprospectus ug jupas concurrent enrolm...       409   
		3  .edu.hk eprospectus ug non jupas faq. ﻿    Stu...       500   
		4  Local and non-local applicants are considered ...       491   
		
		                                          embeddings  
		0  [0.008107999339699745, 0.015904651954770088, 0...  
		1  [0.011299350298941135, 0.016069892793893814, 0...  
		2  [0.006170344538986683, 0.004535153042525053, 0...  
		3  [0.004829402081668377, 0.017824586480855942, 0...  
		4  [0.014815696515142918, 0.006413866765797138, 0...

Code cell <qEZ032t9fdRC>
# %% [code]
def create_context(
    question, df, max_len=1800, size="ada"
):
    """
    Create a context for a question by finding the most similar context from the dataframe
    """

    # Get the embeddings for the question
    q_embeddings = openai.Embedding.create(input=question, engine='text-embedding-ada-002')['data'][0]['embedding']

    # Get the distances from the embeddings
    df['distances'] = distances_from_embeddings(q_embeddings, df['embeddings'].values, distance_metric='cosine')


    returns = []
    cur_len = 0

    # Sort by distance and add the text to the context until the context is too long
    for i, row in df.sort_values('distances', ascending=True).iterrows():

        # Add the length of the text to the current length
        cur_len += row['n_tokens'] + 4

        # If the context is too long, break
        if cur_len > max_len:
            break

        # Else add it to the text that is being returned
        returns.append(row["text"])

    # Return the context
    return "\n\n###\n\n".join(returns)

def answer_question(
    df,
    model="text-davinci-003",
    #model="gpt-3.5-turbo",
    question="Am I allowed to publish model outputs to Twitter, without a human review?",
    max_len=1800,
    size="ada",
    debug=False,
    max_tokens=150,
    stop_sequence=None
):
    """
    Answer a question based on the most similar context from the dataframe texts
    """
    context = create_context(
        question,
        df,
        max_len=max_len,
        size=size,
    )
    # If debug, print the raw model response
    if debug:
        print("Context:\n" + context)
        print("\n\n")

    try:
        # Create a completions using the question and context
        response = openai.Completion.create(
            prompt=f"Answer the question based on the context below, and if the question can't be answered based on the context, say \"I don't know\"\n\nContext: {context}\n\n---\n\nQuestion: {question}\nAnswer:",
            temperature=0,
            max_tokens=max_tokens,
            top_p=1,
            frequency_penalty=0,
            presence_penalty=0,
            stop=stop_sequence,
            model=model,
        )
        return response["choices"][0]["text"].strip()
    except Exception as e:
        print(e)
        return ""

Code cell <GGA8oOazTaff>
# %% [code]
answer_question(df, question="是否接受a-level的中文科目?", debug=False)
Execution output from Aug 14, 2023 5:08 PM
0KB
	text/plain
		'Yes, GCE A-Level E or above is required.'

Code cell <uoARghj8Tl0k>
# %% [code]
answer_question(df, question="a-level入学科目限制", debug=False)
Execution output from Aug 14, 2023 5:13 PM
1KB
	text/plain
		"Satisfy the University's General Entrance Requirements. There is no compulsory subject requirement. Preferred subject(s) with the highest weighting for admission score calculation include(s): English Language Mathematics Relevant Applied Learning subject(s) that can be considered for meeting the University entrance requirement and admission score calculation is/are: Accounting in PracticeApplied PsychologyAviation StudiesData Application for Business / Business Data AnalysisEntrepreneurship for SMEEnvironmental EngineeringFood and Beverage OperationsFundamental Health CareHotel OperationsInternet of Everything ApplicationLaw Enforcement in Hong KongMarketing and Online PromotionMarketing in Global TradeMobile and Online Apps DevelopmentNew Media Communication StrategiesPractical PsychologyPurchasing and Merchandising"

Code cell <N5P1qqAZfdRC>
# %% [code]
answer_question(df, question="Can I enroll if I am under 18 years old?", debug=False)
Execution output from Aug 10, 2023 10:30 AM
0KB
	text/plain
		'Yes, you can enroll if you are under 18 years old.'

Code cell <CW7WwYgr_j4k>
# %% [code]
answer_question(df, question="年龄不到18岁是否可以入学 ?", debug=False)
Execution output from Aug 10, 2023 10:27 AM
0KB
	text/plain
		'Based on the context provided, students under the age of 18 can be admitted to the university, but their parents or guardians must give consent for them to participate in various activities and make decisions related to their studies.'

Code cell <sxWB_qC9fdRC>
# %% [code]
answer_question(df, question="What are the computer-related majors?", debug=False)
Execution output from Aug 10, 2023 10:27 AM
0KB
	text/plain
		'The computer-related majors mentioned in the context are Computer Science - BSc (Hons), Enterprise Information Systems - BSc (Hons), and Financial Technology and Artificial Intelligence - BSc (Hons).'

Code cell <FKuQodS-_pdG>
# %% [code]
answer_question(df, question="what is department schema？", debug=False)
Execution output from Aug 10, 2023 10:28 AM
1KB
	text/plain
		'Departmental scheme refers to an admission system where students applying to a university first select a scheme or program within a specific department. Upon enrolling in the university, students undertake common courses within the department during their first academic year. At the end of the first year of study, students have the opportunity to select their major or specialization within their chosen scheme or program, unless specified otherwise by the scheme. This system allows students to explore their interests and aspirations before making a final decision on their major, providing them with more flexible study options.'

Code cell <80K2NmJ8S2ci>
# %% [code]
answer_question(df, question="What scholarships does the school offer?", debug=False)
Execution output from Aug 10, 2023 10:28 AM
0KB
	text/plain
		'Based on the context provided, the school offers scholarships and sponsorships for the Overseas Exchange program, Work-Integrated Education, and Service-Learning.'

Code cell <-WuDBbu4TxGz>
# %% [code]
answer_question(df, question="大学入学文书有哪些要求? 列出要点", debug=False)
Execution output from Aug 10, 2023 10:30 AM
0KB
	text/plain
		'申请人必须提交一份完整的入学文书，包括：个人基本信息、学术成绩、个人陈述、推荐信、作品集（如果有）、附加文件（如果有）等。'

Code cell <8J1GQih5UHVe>
# %% [code]
answer_question(df, question="What are the entry score requirements for A-levels?", debug=False)
Execution output from Aug 12, 2023 1:55 PM
0KB
	text/plain
		'The 25th–75th percentile of admissions score range for A-levels is 136-168 UCAS Tariff points for 3 AL or 2 AL & 2 AS subjects (including additional points for TOK & EE).'


